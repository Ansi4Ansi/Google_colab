{
  "cells": [
    {
      "cell_type": "markdown",
      "metadata": {
        "id": "view-in-github",
        "colab_type": "text"
      },
      "source": [
        "<a href=\"https://colab.research.google.com/github/Ansi4Ansi/Google_colab/blob/main/ml_b2c2024q2_simkin_HW06.ipynb\" target=\"_parent\"><img src=\"https://colab.research.google.com/assets/colab-badge.svg\" alt=\"Open In Colab\"/></a>"
      ]
    },
    {
      "cell_type": "code",
      "execution_count": 1,
      "metadata": {
        "id": "JvzCFL4510GI",
        "colab": {
          "base_uri": "https://localhost:8080/"
        },
        "outputId": "82908cc4-8207-43fd-87a4-71d2ea31f558"
      },
      "outputs": [
        {
          "output_type": "execute_result",
          "data": {
            "text/plain": [
              "<torch._C.Generator at 0x79044c175950>"
            ]
          },
          "metadata": {},
          "execution_count": 1
        }
      ],
      "source": [
        "import torch\n",
        "import plotly.graph_objects as go\n",
        "import numpy as np\n",
        "\n",
        "torch.manual_seed(42)"
      ]
    },
    {
      "cell_type": "markdown",
      "metadata": {
        "id": "9xWNVPoMeGa_"
      },
      "source": [
        "**Оформление ДЗ**:\n",
        "\n",
        "- Выполненное ДЗ сохраните в файл ``ml_b2c2024q2_<фамилия>_HW06.ipynb`` (пример ``ml_b2c2024q2_dral_HW05.ipynb``)\n",
        "- Зарегистрироваться и залогиниться в сервисе [Everest](https://everest.distcomp.org/)\n",
        "- Перейти на страницу приложения: [BDT-grader-ML-B2C](https://everest.distcomp.org/apps/BigDataTeam/BDT-grader-ML-B2C)\n",
        "- Выбрать вкладку Submit Job (если отображается иная).\n",
        "- Выбрать в качестве “Task” значение: ``HW06:Introduction to neural networks`` (кодовое название для преподвателей: ``nn_intro``)\n",
        "- Загрузить в качестве “Task solution” файл с решением\n",
        "- В качестве Access Token указать тот, который был выслан по почте или в телеграм от аккаунта @bdt_manager\n",
        "\n",
        "**Вопросы**:\n",
        "- Свои вопросы присылайте в Телеграм.\n",
        "\n",
        "**Фидбек**:\n",
        "- Пожалуйста, оставьте свой отзыв после выполнения домашнего задания по сссылке:\n",
        "\n",
        "    https://forms.gle/iY5NRn9UfaZ344rbA"
      ]
    },
    {
      "cell_type": "markdown",
      "metadata": {
        "id": "8072bu3wd9Ir"
      },
      "source": [
        "# Вопросы на понимание (10%)\n",
        "\n",
        "1. Какие меры две меры ошибки мы используем для регрессии и для классификации в нейросетях?\n",
        "2. В чем задача активаций в нейросетях? Что будет происходить если их не использовать?\n",
        "3. Как можно понять что при тренировке выбран слишком высокий learning rate? А слишком низкий?\n",
        "4. У нас есть конволюционный слой с 3х3 фильтром, 32 входными каналами и 128 выходными. Какова размерность весов этого слоя? Сколько всего тренируемых параметров в этом слое?\n",
        "5. Может ли нейросеть делать правильное предсказание БЕЗ обучения? Почему/почему нет?\n",
        "\n",
        "Пишите ответы внизу."
      ]
    },
    {
      "cell_type": "markdown",
      "metadata": {
        "id": "qLnyaYwgd9Is"
      },
      "source": []
    },
    {
      "cell_type": "markdown",
      "metadata": {
        "id": "cE55eP0Qd9Is"
      },
      "source": [
        "# Простые операции на тензорах (5%)"
      ]
    },
    {
      "cell_type": "code",
      "execution_count": 2,
      "metadata": {
        "id": "fdVyh0sI2vtZ"
      },
      "outputs": [],
      "source": [
        "# создайте тензоры x,y нормально распределенных случайных чисел размером (3, 5, 4) и (4, 7)\n",
        "\n",
        "x = torch.rand(3, 5, 4)\n",
        "y = torch.rand(4 ,7)\n",
        "# проверка\n",
        "assert x.size() == (3, 5, 4)\n",
        "assert y.size() == (4, 7)"
      ]
    },
    {
      "cell_type": "code",
      "execution_count": 3,
      "metadata": {
        "id": "XCHSVdgwmWGl"
      },
      "outputs": [],
      "source": [
        "# каков будет размер (измерения) произведения этих тензоров? (dot product) запишите ответ в переменную\n",
        "\n",
        "dot_product_shape = (3, 5, 7)\n",
        "\n",
        "# проверка\n",
        "assert (x @ y).size() == dot_product_shape"
      ]
    },
    {
      "cell_type": "code",
      "execution_count": 4,
      "metadata": {
        "id": "BpTTbgIb3coL"
      },
      "outputs": [],
      "source": [
        "# Если мы объединим 2 последних измерения тензора x в одно, каким будет размер тензора х?\n",
        "# Проверьте себя\n",
        "\n",
        "new_x_shape = (3, 20)\n",
        "x_reshaped = x.reshape(new_x_shape)\n",
        "assert x_reshaped.size() == new_x_shape"
      ]
    },
    {
      "cell_type": "code",
      "execution_count": 5,
      "metadata": {
        "id": "IyDS7rpxmgN2",
        "colab": {
          "base_uri": "https://localhost:8080/"
        },
        "outputId": "9e9e5cfe-f760-498e-b259-a34551fbd256"
      },
      "outputs": [
        {
          "output_type": "stream",
          "name": "stdout",
          "text": [
            "Max value in x: 0.9593056440353394\n",
            "Mean value in dim 2:\n",
            "tensor([[0.7937, 0.5581, 0.5163, 0.6807],\n",
            "        [0.4772, 0.4408, 0.4999, 0.4515],\n",
            "        [0.5904, 0.4485, 0.6079, 0.5389]])\n"
          ]
        }
      ],
      "source": [
        "# Другие операции с тензорами (работает так же как numpy), работаем с тензором x\n",
        "\n",
        "# Максимальное значение в тенсоре\n",
        "print(f\"Max value in x: {x.max()}\")\n",
        "\n",
        "# Среднее значение по второму измерению (hint: индексация с нуля)\n",
        "print(f\"Mean value in dim 2:\\n{x.mean(axis=1)}\")"
      ]
    },
    {
      "cell_type": "markdown",
      "metadata": {
        "id": "pjAPRCqPpPH_"
      },
      "source": [
        "# Автоматическая дифференциация (10%)\n",
        "\n",
        "Одна из главных фишек PyTorch и других библиотек для Deep Learning заключается в очень быстром расчете производных и градиентов.\n",
        "\n",
        "Создайте функцию `def f(x:torch.Tensor) -> torch.Tensor:` вида\n",
        "\n",
        "$x^3 - 3x^3 - 10x^2 - 3x + 50$\n",
        "\n",
        "Посчитайте градиенты этой функции на промежутке (-2, 8) с шагом 0.1 (или меньшим, для красоты)\n",
        "\n",
        "Воспользуйтесь функцией `plot_derivative_results` для построения графика"
      ]
    },
    {
      "cell_type": "code",
      "execution_count": 6,
      "metadata": {
        "id": "uf8uqQUUrT6u",
        "colab": {
          "base_uri": "https://localhost:8080/",
          "height": 617
        },
        "outputId": "3ad9a9d6-b485-4d71-c1cd-70f6ca4a4b0c"
      },
      "outputs": [
        {
          "output_type": "display_data",
          "data": {
            "text/html": [
              "<html>\n",
              "<head><meta charset=\"utf-8\" /></head>\n",
              "<body>\n",
              "    <div>            <script src=\"https://cdnjs.cloudflare.com/ajax/libs/mathjax/2.7.5/MathJax.js?config=TeX-AMS-MML_SVG\"></script><script type=\"text/javascript\">if (window.MathJax && window.MathJax.Hub && window.MathJax.Hub.Config) {window.MathJax.Hub.Config({SVG: {font: \"STIX-Web\"}});}</script>                <script type=\"text/javascript\">window.PlotlyConfig = {MathJaxConfig: 'local'};</script>\n",
              "        <script charset=\"utf-8\" src=\"https://cdn.plot.ly/plotly-2.24.1.min.js\"></script>                <div id=\"b408e4d9-eaa8-469a-94a6-6d2ad2fae5fb\" class=\"plotly-graph-div\" style=\"height:600px; width:800px;\"></div>            <script type=\"text/javascript\">                                    window.PLOTLYENV=window.PLOTLYENV || {};                                    if (document.getElementById(\"b408e4d9-eaa8-469a-94a6-6d2ad2fae5fb\")) {                    Plotly.newPlot(                        \"b408e4d9-eaa8-469a-94a6-6d2ad2fae5fb\",                        [{\"mode\":\"lines\",\"name\":\"f(x)=x^3-3x^3-10x^2-50\",\"opacity\":0.7,\"x\":[-2.0,-1.899999976158142,-1.7999999523162842,-1.7000000476837158,-1.600000023841858,-1.5,-1.399999976158142,-1.2999999523162842,-1.2000000476837158,-1.100000023841858,-1.0,-0.9000000357627869,-0.8000000715255737,-0.7000000476837158,-0.6000000238418579,-0.5000000596046448,-0.4000000059604645,-0.30000001192092896,-0.20000000298023224,-0.10000000894069672,-5.9604645663569045e-09,0.09999999403953552,0.19999998807907104,0.29999998211860657,0.4000000059604645,0.5,0.6000000238418579,0.699999988079071,0.800000011920929,0.8999999761581421,1.0,1.100000023841858,1.2000000476837158,1.3000000715255737,1.4000000953674316,1.5,1.600000023841858,1.7000000476837158,1.8000000715255737,1.9000000953674316,2.0,2.0999999046325684,2.200000047683716,2.299999952316284,2.4000000953674316,2.5,2.5999999046325684,2.700000047683716,2.799999952316284,2.8999998569488525,3.0,3.0999999046325684,3.200000047683716,3.299999952316284,3.3999998569488525,3.5,3.5999999046325684,3.6999998092651367,3.799999952316284,3.8999998569488525,4.0,4.099999904632568,4.199999809265137,4.299999713897705,4.400000095367432,4.5,4.599999904632568,4.700000286102295,4.800000190734863,4.900000095367432,5.0,5.099999904632568,5.199999809265137,5.299999713897705,5.399999618530273,5.5,5.599999904632568,5.699999809265137,5.799999713897705,5.899999618530273,6.0,6.099999904632568,6.199999809265137,6.300000190734863,6.400000095367432,6.5,6.599999904632568,6.699999809265137,6.800000190734863,6.900000095367432,7.0,7.100000381469727,7.200000286102295,7.300000190734863,7.400000095367432,7.5,7.599999904632568,7.699999809265137,7.800000190734863,7.900000095367432],\"y\":[32.0,33.31800079345703,34.66400146484375,36.0260009765625,37.391998291015625,38.75,40.08799743652344,41.39399719238281,42.65599822998047,43.86199951171875,45.0,46.05799865722656,47.02399826049805,47.88600158691406,48.63199996948242,49.25,49.72800064086914,50.05400085449219,50.215999603271484,50.20199966430664,50.0,49.597999572753906,48.98400115966797,48.145999908447266,47.071998596191406,45.75,44.167999267578125,42.31399917602539,40.17599868774414,37.742000579833984,35.0,31.937999725341797,28.54399871826172,24.805997848510742,20.71199607849121,16.25,11.408000946044922,6.1739959716796875,0.5359954833984375,-5.51800537109375,-12.0,-18.9219970703125,-26.295997619628906,-34.133995056152344,-42.447998046875,-51.25,-60.552001953125,-70.36600494384766,-80.70399475097656,-91.57798767089844,-103.0,-114.98199462890625,-127.5360107421875,-140.67398071289062,-154.40798950195312,-168.75,-183.7119903564453,-199.3059844970703,-215.54397583007812,-232.43798828125,-250.0,-268.2419738769531,-287.1759948730469,-306.8139343261719,-327.16802978515625,-348.25,-370.07196044921875,-392.64605712890625,-415.9840393066406,-440.0980224609375,-465.0,-490.70196533203125,-517.2159423828125,-544.553955078125,-572.7279052734375,-601.75,-631.6320190429688,-662.3859252929688,-694.02392578125,-726.557861328125,-760.0,-794.3619995117188,-829.6559448242188,-865.8941040039062,-903.0880737304688,-941.25,-980.3919677734375,-1020.52587890625,-1061.6640625,-1103.8179931640625,-1147.0,-1191.22216796875,-1236.49609375,-1282.8341064453125,-1330.248046875,-1378.75,-1428.35205078125,-1479.0657958984375,-1530.9041748046875,-1583.8779296875],\"type\":\"scatter\"},{\"mode\":\"lines\",\"name\":\"grad(f(x))\",\"opacity\":0.7,\"x\":[-2.0,-1.899999976158142,-1.7999999523162842,-1.7000000476837158,-1.600000023841858,-1.5,-1.399999976158142,-1.2999999523162842,-1.2000000476837158,-1.100000023841858,-1.0,-0.9000000357627869,-0.8000000715255737,-0.7000000476837158,-0.6000000238418579,-0.5000000596046448,-0.4000000059604645,-0.30000001192092896,-0.20000000298023224,-0.10000000894069672,-5.9604645663569045e-09,0.09999999403953552,0.19999998807907104,0.29999998211860657,0.4000000059604645,0.5,0.6000000238418579,0.699999988079071,0.800000011920929,0.8999999761581421,1.0,1.100000023841858,1.2000000476837158,1.3000000715255737,1.4000000953674316,1.5,1.600000023841858,1.7000000476837158,1.8000000715255737,1.9000000953674316,2.0,2.0999999046325684,2.200000047683716,2.299999952316284,2.4000000953674316,2.5,2.5999999046325684,2.700000047683716,2.799999952316284,2.8999998569488525,3.0,3.0999999046325684,3.200000047683716,3.299999952316284,3.3999998569488525,3.5,3.5999999046325684,3.6999998092651367,3.799999952316284,3.8999998569488525,4.0,4.099999904632568,4.199999809265137,4.299999713897705,4.400000095367432,4.5,4.599999904632568,4.700000286102295,4.800000190734863,4.900000095367432,5.0,5.099999904632568,5.199999809265137,5.299999713897705,5.399999618530273,5.5,5.599999904632568,5.699999809265137,5.799999713897705,5.899999618530273,6.0,6.099999904632568,6.199999809265137,6.300000190734863,6.400000095367432,6.5,6.599999904632568,6.699999809265137,6.800000190734863,6.900000095367432,7.0,7.100000381469727,7.200000286102295,7.300000190734863,7.400000095367432,7.5,7.599999904632568,7.699999809265137,7.800000190734863,7.900000095367432],\"y\":[1.3180007934570312,1.332000732421875,1.3540000915527344,1.3639984130859375,1.36199951171875,1.3479995727539062,1.3219985961914062,1.2840003967285156,1.2340011596679688,1.1720008850097656,1.0979995727539062,1.0119991302490234,0.91400146484375,0.8040008544921875,0.6819992065429688,0.5480003356933594,0.40200042724609375,0.24399948120117188,0.07399940490722656,-0.10799980163574219,-0.3020000457763672,-0.5079994201660156,-0.7259998321533203,-0.9560012817382812,-1.1979999542236328,-1.4519996643066406,-1.7180004119873047,-1.9960002899169922,-2.285999298095703,-2.5879993438720703,-2.9020004272460938,-3.2280006408691406,-3.5660009384155273,-3.916001319885254,-4.277998924255371,-4.6519975662231445,-5.038002014160156,-5.436002731323242,-5.846000671386719,-6.267997741699219,-6.701995849609375,-7.147998809814453,-7.605998992919922,-8.076000213623047,-8.558002471923828,-9.052001953125,-9.558002471923828,-10.075996398925781,-10.60599136352539,-11.148002624511719,-11.702003479003906,-12.26800537109375,-12.845993041992188,-13.435989379882812,-14.038009643554688,-14.652000427246094,-15.277992248535156,-15.915992736816406,-16.566001892089844,-17.228012084960938,-17.901992797851562,-18.587997436523438,-19.285980224609375,-19.996017456054688,-20.718032836914062,-21.45196533203125,-22.198028564453125,-22.956039428710938,-23.725982666015625,-24.507980346679688,-25.301971435546875,-26.10797119140625,-26.925994873046875,-27.7559814453125,-28.5980224609375,-29.452056884765625,-30.317962646484375,-31.195953369140625,-32.085968017578125,-32.988037109375,-33.902069091796875,-34.827972412109375,-35.76605224609375,-36.716064453125,-37.677947998046875,-38.651947021484375,-39.637939453125,-40.63604736328125,-41.64605712890625,-42.66796875,-43.70208740234375,-44.748046875,-45.80596923828125,-46.8759765625,-47.95794677734375,-49.052001953125,-50.15789794921875,-51.27606201171875,-52.40606689453125,-52.9737548828125],\"type\":\"scatter\"}],                        {\"template\":{\"data\":{\"histogram2dcontour\":[{\"type\":\"histogram2dcontour\",\"colorbar\":{\"outlinewidth\":0,\"ticks\":\"\"},\"colorscale\":[[0.0,\"#0d0887\"],[0.1111111111111111,\"#46039f\"],[0.2222222222222222,\"#7201a8\"],[0.3333333333333333,\"#9c179e\"],[0.4444444444444444,\"#bd3786\"],[0.5555555555555556,\"#d8576b\"],[0.6666666666666666,\"#ed7953\"],[0.7777777777777778,\"#fb9f3a\"],[0.8888888888888888,\"#fdca26\"],[1.0,\"#f0f921\"]]}],\"choropleth\":[{\"type\":\"choropleth\",\"colorbar\":{\"outlinewidth\":0,\"ticks\":\"\"}}],\"histogram2d\":[{\"type\":\"histogram2d\",\"colorbar\":{\"outlinewidth\":0,\"ticks\":\"\"},\"colorscale\":[[0.0,\"#0d0887\"],[0.1111111111111111,\"#46039f\"],[0.2222222222222222,\"#7201a8\"],[0.3333333333333333,\"#9c179e\"],[0.4444444444444444,\"#bd3786\"],[0.5555555555555556,\"#d8576b\"],[0.6666666666666666,\"#ed7953\"],[0.7777777777777778,\"#fb9f3a\"],[0.8888888888888888,\"#fdca26\"],[1.0,\"#f0f921\"]]}],\"heatmap\":[{\"type\":\"heatmap\",\"colorbar\":{\"outlinewidth\":0,\"ticks\":\"\"},\"colorscale\":[[0.0,\"#0d0887\"],[0.1111111111111111,\"#46039f\"],[0.2222222222222222,\"#7201a8\"],[0.3333333333333333,\"#9c179e\"],[0.4444444444444444,\"#bd3786\"],[0.5555555555555556,\"#d8576b\"],[0.6666666666666666,\"#ed7953\"],[0.7777777777777778,\"#fb9f3a\"],[0.8888888888888888,\"#fdca26\"],[1.0,\"#f0f921\"]]}],\"heatmapgl\":[{\"type\":\"heatmapgl\",\"colorbar\":{\"outlinewidth\":0,\"ticks\":\"\"},\"colorscale\":[[0.0,\"#0d0887\"],[0.1111111111111111,\"#46039f\"],[0.2222222222222222,\"#7201a8\"],[0.3333333333333333,\"#9c179e\"],[0.4444444444444444,\"#bd3786\"],[0.5555555555555556,\"#d8576b\"],[0.6666666666666666,\"#ed7953\"],[0.7777777777777778,\"#fb9f3a\"],[0.8888888888888888,\"#fdca26\"],[1.0,\"#f0f921\"]]}],\"contourcarpet\":[{\"type\":\"contourcarpet\",\"colorbar\":{\"outlinewidth\":0,\"ticks\":\"\"}}],\"contour\":[{\"type\":\"contour\",\"colorbar\":{\"outlinewidth\":0,\"ticks\":\"\"},\"colorscale\":[[0.0,\"#0d0887\"],[0.1111111111111111,\"#46039f\"],[0.2222222222222222,\"#7201a8\"],[0.3333333333333333,\"#9c179e\"],[0.4444444444444444,\"#bd3786\"],[0.5555555555555556,\"#d8576b\"],[0.6666666666666666,\"#ed7953\"],[0.7777777777777778,\"#fb9f3a\"],[0.8888888888888888,\"#fdca26\"],[1.0,\"#f0f921\"]]}],\"surface\":[{\"type\":\"surface\",\"colorbar\":{\"outlinewidth\":0,\"ticks\":\"\"},\"colorscale\":[[0.0,\"#0d0887\"],[0.1111111111111111,\"#46039f\"],[0.2222222222222222,\"#7201a8\"],[0.3333333333333333,\"#9c179e\"],[0.4444444444444444,\"#bd3786\"],[0.5555555555555556,\"#d8576b\"],[0.6666666666666666,\"#ed7953\"],[0.7777777777777778,\"#fb9f3a\"],[0.8888888888888888,\"#fdca26\"],[1.0,\"#f0f921\"]]}],\"mesh3d\":[{\"type\":\"mesh3d\",\"colorbar\":{\"outlinewidth\":0,\"ticks\":\"\"}}],\"scatter\":[{\"fillpattern\":{\"fillmode\":\"overlay\",\"size\":10,\"solidity\":0.2},\"type\":\"scatter\"}],\"parcoords\":[{\"type\":\"parcoords\",\"line\":{\"colorbar\":{\"outlinewidth\":0,\"ticks\":\"\"}}}],\"scatterpolargl\":[{\"type\":\"scatterpolargl\",\"marker\":{\"colorbar\":{\"outlinewidth\":0,\"ticks\":\"\"}}}],\"bar\":[{\"error_x\":{\"color\":\"#2a3f5f\"},\"error_y\":{\"color\":\"#2a3f5f\"},\"marker\":{\"line\":{\"color\":\"#E5ECF6\",\"width\":0.5},\"pattern\":{\"fillmode\":\"overlay\",\"size\":10,\"solidity\":0.2}},\"type\":\"bar\"}],\"scattergeo\":[{\"type\":\"scattergeo\",\"marker\":{\"colorbar\":{\"outlinewidth\":0,\"ticks\":\"\"}}}],\"scatterpolar\":[{\"type\":\"scatterpolar\",\"marker\":{\"colorbar\":{\"outlinewidth\":0,\"ticks\":\"\"}}}],\"histogram\":[{\"marker\":{\"pattern\":{\"fillmode\":\"overlay\",\"size\":10,\"solidity\":0.2}},\"type\":\"histogram\"}],\"scattergl\":[{\"type\":\"scattergl\",\"marker\":{\"colorbar\":{\"outlinewidth\":0,\"ticks\":\"\"}}}],\"scatter3d\":[{\"type\":\"scatter3d\",\"line\":{\"colorbar\":{\"outlinewidth\":0,\"ticks\":\"\"}},\"marker\":{\"colorbar\":{\"outlinewidth\":0,\"ticks\":\"\"}}}],\"scattermapbox\":[{\"type\":\"scattermapbox\",\"marker\":{\"colorbar\":{\"outlinewidth\":0,\"ticks\":\"\"}}}],\"scatterternary\":[{\"type\":\"scatterternary\",\"marker\":{\"colorbar\":{\"outlinewidth\":0,\"ticks\":\"\"}}}],\"scattercarpet\":[{\"type\":\"scattercarpet\",\"marker\":{\"colorbar\":{\"outlinewidth\":0,\"ticks\":\"\"}}}],\"carpet\":[{\"aaxis\":{\"endlinecolor\":\"#2a3f5f\",\"gridcolor\":\"white\",\"linecolor\":\"white\",\"minorgridcolor\":\"white\",\"startlinecolor\":\"#2a3f5f\"},\"baxis\":{\"endlinecolor\":\"#2a3f5f\",\"gridcolor\":\"white\",\"linecolor\":\"white\",\"minorgridcolor\":\"white\",\"startlinecolor\":\"#2a3f5f\"},\"type\":\"carpet\"}],\"table\":[{\"cells\":{\"fill\":{\"color\":\"#EBF0F8\"},\"line\":{\"color\":\"white\"}},\"header\":{\"fill\":{\"color\":\"#C8D4E3\"},\"line\":{\"color\":\"white\"}},\"type\":\"table\"}],\"barpolar\":[{\"marker\":{\"line\":{\"color\":\"#E5ECF6\",\"width\":0.5},\"pattern\":{\"fillmode\":\"overlay\",\"size\":10,\"solidity\":0.2}},\"type\":\"barpolar\"}],\"pie\":[{\"automargin\":true,\"type\":\"pie\"}]},\"layout\":{\"autotypenumbers\":\"strict\",\"colorway\":[\"#636efa\",\"#EF553B\",\"#00cc96\",\"#ab63fa\",\"#FFA15A\",\"#19d3f3\",\"#FF6692\",\"#B6E880\",\"#FF97FF\",\"#FECB52\"],\"font\":{\"color\":\"#2a3f5f\"},\"hovermode\":\"closest\",\"hoverlabel\":{\"align\":\"left\"},\"paper_bgcolor\":\"white\",\"plot_bgcolor\":\"#E5ECF6\",\"polar\":{\"bgcolor\":\"#E5ECF6\",\"angularaxis\":{\"gridcolor\":\"white\",\"linecolor\":\"white\",\"ticks\":\"\"},\"radialaxis\":{\"gridcolor\":\"white\",\"linecolor\":\"white\",\"ticks\":\"\"}},\"ternary\":{\"bgcolor\":\"#E5ECF6\",\"aaxis\":{\"gridcolor\":\"white\",\"linecolor\":\"white\",\"ticks\":\"\"},\"baxis\":{\"gridcolor\":\"white\",\"linecolor\":\"white\",\"ticks\":\"\"},\"caxis\":{\"gridcolor\":\"white\",\"linecolor\":\"white\",\"ticks\":\"\"}},\"coloraxis\":{\"colorbar\":{\"outlinewidth\":0,\"ticks\":\"\"}},\"colorscale\":{\"sequential\":[[0.0,\"#0d0887\"],[0.1111111111111111,\"#46039f\"],[0.2222222222222222,\"#7201a8\"],[0.3333333333333333,\"#9c179e\"],[0.4444444444444444,\"#bd3786\"],[0.5555555555555556,\"#d8576b\"],[0.6666666666666666,\"#ed7953\"],[0.7777777777777778,\"#fb9f3a\"],[0.8888888888888888,\"#fdca26\"],[1.0,\"#f0f921\"]],\"sequentialminus\":[[0.0,\"#0d0887\"],[0.1111111111111111,\"#46039f\"],[0.2222222222222222,\"#7201a8\"],[0.3333333333333333,\"#9c179e\"],[0.4444444444444444,\"#bd3786\"],[0.5555555555555556,\"#d8576b\"],[0.6666666666666666,\"#ed7953\"],[0.7777777777777778,\"#fb9f3a\"],[0.8888888888888888,\"#fdca26\"],[1.0,\"#f0f921\"]],\"diverging\":[[0,\"#8e0152\"],[0.1,\"#c51b7d\"],[0.2,\"#de77ae\"],[0.3,\"#f1b6da\"],[0.4,\"#fde0ef\"],[0.5,\"#f7f7f7\"],[0.6,\"#e6f5d0\"],[0.7,\"#b8e186\"],[0.8,\"#7fbc41\"],[0.9,\"#4d9221\"],[1,\"#276419\"]]},\"xaxis\":{\"gridcolor\":\"white\",\"linecolor\":\"white\",\"ticks\":\"\",\"title\":{\"standoff\":15},\"zerolinecolor\":\"white\",\"automargin\":true,\"zerolinewidth\":2},\"yaxis\":{\"gridcolor\":\"white\",\"linecolor\":\"white\",\"ticks\":\"\",\"title\":{\"standoff\":15},\"zerolinecolor\":\"white\",\"automargin\":true,\"zerolinewidth\":2},\"scene\":{\"xaxis\":{\"backgroundcolor\":\"#E5ECF6\",\"gridcolor\":\"white\",\"linecolor\":\"white\",\"showbackground\":true,\"ticks\":\"\",\"zerolinecolor\":\"white\",\"gridwidth\":2},\"yaxis\":{\"backgroundcolor\":\"#E5ECF6\",\"gridcolor\":\"white\",\"linecolor\":\"white\",\"showbackground\":true,\"ticks\":\"\",\"zerolinecolor\":\"white\",\"gridwidth\":2},\"zaxis\":{\"backgroundcolor\":\"#E5ECF6\",\"gridcolor\":\"white\",\"linecolor\":\"white\",\"showbackground\":true,\"ticks\":\"\",\"zerolinecolor\":\"white\",\"gridwidth\":2}},\"shapedefaults\":{\"line\":{\"color\":\"#2a3f5f\"}},\"annotationdefaults\":{\"arrowcolor\":\"#2a3f5f\",\"arrowhead\":0,\"arrowwidth\":1},\"geo\":{\"bgcolor\":\"white\",\"landcolor\":\"#E5ECF6\",\"subunitcolor\":\"white\",\"showland\":true,\"showlakes\":true,\"lakecolor\":\"white\"},\"title\":{\"x\":0.05},\"mapbox\":{\"style\":\"light\"}}},\"title\":{\"text\":\"Function and grad\"},\"width\":800,\"height\":600,\"xaxis\":{\"title\":{\"text\":\"x\"}},\"yaxis\":{\"title\":{\"text\":\"f(x), grad(f(x))\"}}},                        {\"responsive\": true}                    ).then(function(){\n",
              "                            \n",
              "var gd = document.getElementById('b408e4d9-eaa8-469a-94a6-6d2ad2fae5fb');\n",
              "var x = new MutationObserver(function (mutations, observer) {{\n",
              "        var display = window.getComputedStyle(gd).display;\n",
              "        if (!display || display === 'none') {{\n",
              "            console.log([gd, 'removed!']);\n",
              "            Plotly.purge(gd);\n",
              "            observer.disconnect();\n",
              "        }}\n",
              "}});\n",
              "\n",
              "// Listen for the removal of the full notebook cells\n",
              "var notebookContainer = gd.closest('#notebook-container');\n",
              "if (notebookContainer) {{\n",
              "    x.observe(notebookContainer, {childList: true});\n",
              "}}\n",
              "\n",
              "// Listen for the clearing of the current output cell\n",
              "var outputEl = gd.closest('.output');\n",
              "if (outputEl) {{\n",
              "    x.observe(outputEl, {childList: true});\n",
              "}}\n",
              "\n",
              "                        })                };                            </script>        </div>\n",
              "</body>\n",
              "</html>"
            ]
          },
          "metadata": {}
        }
      ],
      "source": [
        "def f(x: torch.Tensor) -> torch.Tensor:\n",
        "    return -2*x*x*x - 10*x*x -3*x + 50\n",
        "x = torch.arange(-2, 8, 0.1)\n",
        "y = f(x)\n",
        "grads = torch.gradient(y)\n",
        "fig = go.Figure()\n",
        "fig.add_trace(go.Scatter(x=x, y=y, mode='lines', name='f(x)=x^3-3x^3-10x^2-50', opacity=0.7))\n",
        "fig.add_trace(go.Scatter(x=x, y = grads[0], mode='lines', name='grad(f(x))', opacity=0.7))\n",
        "fig.update_layout(title='Function and grad', width=800, height=600, xaxis_title='x', yaxis_title='f(x), grad(f(x))')\n",
        "fig.show()\n",
        "# постройте график функции f(x) и ее градиента\n",
        "\n"
      ]
    },
    {
      "cell_type": "code",
      "source": [],
      "metadata": {
        "id": "5rx40RnEVkVN"
      },
      "execution_count": 6,
      "outputs": []
    },
    {
      "cell_type": "markdown",
      "metadata": {
        "id": "_zslV1Eed9Iu"
      },
      "source": [
        "## NN in PyTorch 75%\n",
        "\n",
        "Основная часть этого домашнего задания будет основана на создании нейросетей для датасета CIFAR10.\n",
        "Мы создадим и натренируем 3 модели:\n",
        "1. Полносвязная нейросеть (Fully Connected). 2 скрытых слоя размером 512 и 128 нейронов. (25%)\n",
        "2. Сверточная нейросеть (CNN). 3 сверточных слоя с макс пуллингом и 2 полносвязных слоя. (25%)\n",
        "3. Крутая сверточная нейросеть (CNN). Архитектура как вторая, но со всеми приемами которые мы разбирали (Dropout, BatchNorm, Early Stopping, Weight Decay). (25%)\n",
        "\n",
        "### Функции для тренировки и тестирования\n",
        "\n",
        "Вам нужно будет создать 4 функции, `get_dataloaders` `get_accuracy`, `train_model`, `test_model`.\n",
        "\n",
        "### Загрузка данных\n",
        "\n",
        "Сначала нам надо создать функцию для загрузки данных `get_dataloaders`. Порядок действий:\n",
        "\n",
        "1. Создать base_transforms. Они переводят картинку в тензор и нормализуют его.\n",
        "2. Создать train_transforms. Они добавляют аугментации для тренировочного датасета.\n",
        "3. Загрузить тренировочный и тестовый датасеты (`torchvision.datasets.CIFAR10`).\n",
        "4. Разделить тренировочный датасет на тренировочный и валидационный. Для этого можно использовать `torch.utils.data.random_split`, 20 процентов тренировочных картинок должны попасть в валидационный датасет.\n",
        "5. Создать даталоадеры для тренировочного, валидационного и тестового датасетов. Для тренировочного датасета `shuffle=True`, для остальных `shuffle=False`.\n",
        "6. Вернуть тренировочный, валидационный и тестовый даталоадеры.\n",
        "\n",
        "\n",
        "`num_workers`, `batch_size` и `pin_memory` это параметры даталоадеров, которые могут повлиять на скорость загрузки данных. Почитайте про них в документации PyTorch."
      ]
    },
    {
      "cell_type": "code",
      "execution_count": 7,
      "metadata": {
        "id": "EUg44v3gd9Iu",
        "colab": {
          "base_uri": "https://localhost:8080/",
          "height": 525
        },
        "outputId": "b19fb00d-3bd1-4f6c-9f46-18209288d17e"
      },
      "outputs": [
        {
          "output_type": "stream",
          "name": "stdout",
          "text": [
            "Downloading https://www.cs.toronto.edu/~kriz/cifar-10-python.tar.gz to ./data/cifar-10-python.tar.gz\n"
          ]
        },
        {
          "output_type": "stream",
          "name": "stderr",
          "text": [
            "100%|██████████| 170498071/170498071 [00:01<00:00, 101408236.25it/s]\n"
          ]
        },
        {
          "output_type": "stream",
          "name": "stdout",
          "text": [
            "Extracting ./data/cifar-10-python.tar.gz to ./data\n",
            "Files already downloaded and verified\n"
          ]
        },
        {
          "output_type": "stream",
          "name": "stderr",
          "text": [
            "/usr/local/lib/python3.10/dist-packages/torch/utils/data/dataloader.py:558: UserWarning:\n",
            "\n",
            "This DataLoader will create 8 worker processes in total. Our suggested max number of worker in current system is 2, which is smaller than what this DataLoader is going to create. Please be aware that excessive worker creation might get DataLoader running slow or even freeze, lower the worker number to avoid potential slowness/freeze if necessary.\n",
            "\n",
            "/usr/lib/python3.10/multiprocessing/popen_fork.py:66: RuntimeWarning:\n",
            "\n",
            "os.fork() was called. os.fork() is incompatible with multithreaded code, and JAX is multithreaded, so this will likely lead to a deadlock.\n",
            "\n",
            "/usr/lib/python3.10/multiprocessing/popen_fork.py:66: RuntimeWarning:\n",
            "\n",
            "os.fork() was called. os.fork() is incompatible with multithreaded code, and JAX is multithreaded, so this will likely lead to a deadlock.\n",
            "\n",
            "WARNING:matplotlib.image:Clipping input data to the valid range for imshow with RGB data ([0..1] for floats or [0..255] for integers).\n"
          ]
        },
        {
          "output_type": "execute_result",
          "data": {
            "text/plain": [
              "<matplotlib.image.AxesImage at 0x79036c6c8be0>"
            ]
          },
          "metadata": {},
          "execution_count": 7
        },
        {
          "output_type": "display_data",
          "data": {
            "text/plain": [
              "<Figure size 640x480 with 1 Axes>"
            ],
            "image/png": "[encoded data removed]"
          },
          "metadata": {}
        }
      ],
      "source": [
        "import torchvision\n",
        "from torchvision import transforms as T\n",
        "from torch.utils.data import DataLoader\n",
        "import matplotlib.pyplot as plt\n",
        "\n",
        "\n",
        "def get_dataloaders(\n",
        "    transform: T.Compose = T.Compose([]),\n",
        "    batch_size: int = 256,\n",
        "    num_workers: int = 8,\n",
        "    pin_memory: bool = True,\n",
        "    val_fraction: float = 0.2,\n",
        ") -> tuple[DataLoader, DataLoader, DataLoader]:\n",
        "    base_transform = T.Compose([T.ToTensor(), T.Normalize(mean=[0.485, 0.456, 0.406], std=[0.229, 0.224, 0.225])])\n",
        "\n",
        "    train_transform =  T.Compose([T.RandomResizedCrop(32, scale=(0.9, 1.1), antialias=True),\n",
        "                                  T.ColorJitter(brightness=0.1, contrast=0.1, saturation=0.1, hue=0.1),\n",
        "                                  T.RandomRotation(15)])\n",
        "    transform = T.Compose([train_transform, base_transform])\n",
        "\n",
        "    # load the data\n",
        "    trainset = torchvision.datasets.CIFAR10(root=\"./data\", train=True, download=True, transform=transform)\n",
        "    testset = torchvision.datasets.CIFAR10(root=\"./data\", train=False, download=True, transform=base_transform)\n",
        "\n",
        "    val_size = int(0.2 * len(trainset))\n",
        "    train_size = len(trainset) - val_size\n",
        "    trainset, valset = torch.utils.data.random_split(trainset, [train_size, val_size])\n",
        "\n",
        "    trainloader = torch.utils.data.DataLoader(trainset, batch_size=batch_size, shuffle=True, num_workers=num_workers, pin_memory=True)\n",
        "    valloader = torch.utils.data.DataLoader(valset, batch_size=batch_size, shuffle=False, num_workers=num_workers, pin_memory=True)\n",
        "    testloader = torch.utils.data.DataLoader(testset, batch_size=batch_size, shuffle=False, num_workers=num_workers, pin_memory=True)\n",
        "\n",
        "    return trainloader, valloader, testloader\n",
        "\n",
        "# проверка\n",
        "batch_size = 4\n",
        "trainloader, valloader, testloader = get_dataloaders(batch_size=batch_size)\n",
        "images, labels = next(iter(trainloader))\n",
        "assert images.size() == (batch_size, 3, 32, 32)\n",
        "assert labels.size() == (batch_size,)\n",
        "\n",
        "# / 2 + 0.5 - это чтобы перевести значения из диапазона [-1, 1] в [0, 1]\n",
        "plt.imshow(torchvision.utils.make_grid(images).permute(1, 2, 0).numpy() / 2 + 0.5)\n"
      ]
    },
    {
      "cell_type": "code",
      "execution_count": 8,
      "metadata": {
        "colab": {
          "base_uri": "https://localhost:8080/",
          "height": 228
        },
        "id": "us-iG-DACIBX",
        "outputId": "9960303f-1af9-4b03-fc0b-ac1e6f26538e"
      },
      "outputs": [
        {
          "output_type": "stream",
          "name": "stderr",
          "text": [
            "WARNING:matplotlib.image:Clipping input data to the valid range for imshow with RGB data ([0..1] for floats or [0..255] for integers).\n"
          ]
        },
        {
          "output_type": "execute_result",
          "data": {
            "text/plain": [
              "<matplotlib.image.AxesImage at 0x7903632a3a60>"
            ]
          },
          "metadata": {},
          "execution_count": 8
        },
        {
          "output_type": "display_data",
          "data": {
            "text/plain": [
              "<Figure size 640x480 with 1 Axes>"
            ],
            "image/png": "[encoded data removed]"
          },
          "metadata": {}
        }
      ],
      "source": [
        "images, labels = next(iter(testloader))\n",
        "plt.imshow(torchvision.utils.make_grid(images).permute(1, 2, 0).numpy() / 2 + 0.5)"
      ]
    },
    {
      "cell_type": "markdown",
      "metadata": {
        "id": "n_TBlxlOd9Iu"
      },
      "source": [
        "#### `get_accuracy`\n",
        "\n",
        "Функция должна считать точность (количество правильных ответов / общее количество ответов). Пригодятся `tensor.argmax`, сравнение тензоров, `tensor.item`, `tensor.sum`."
      ]
    },
    {
      "cell_type": "code",
      "execution_count": 9,
      "metadata": {
        "id": "FBo-wCe6d9Iv"
      },
      "outputs": [],
      "source": [
        "def get_accuracy(outputs: torch.Tensor, labels: torch.Tensor) -> float:\n",
        "    \"\"\"\n",
        "    Outputs - предсказания модели (batch_size, n_classes)\n",
        "    Labels - истинные значения (batch_size, 1)\n",
        "    \"\"\"\n",
        "    preds = outputs.argmax(dim=1)\n",
        "    correct = (preds == labels).sum().item()\n",
        "    total = len(labels)\n",
        "    acc = correct / total\n",
        "    return acc\n",
        "\n",
        "# проверка\n",
        "outputs = torch.tensor([[0.1, 0.2, 0.7], [0.9, 0.05, 0.05], [0.2, 0.2, 0.6]])\n",
        "labels = torch.tensor([2, 0, 2])\n",
        "\n",
        "assert get_accuracy(outputs, labels) == 1"
      ]
    },
    {
      "cell_type": "markdown",
      "metadata": {
        "id": "s3Drrhwld9Iv"
      },
      "source": [
        "#### `train_model`\n",
        "\n",
        "Основная функция для тренировки модели. На вход подается модель, даталоадеры для тртренировочного и валидационного датасетов.\n",
        "На ваше усмотрения можете добавить все гиперпараметры, которые считаете нужными (learning rate, num epochs, weight decay etc).\n",
        "\n",
        "Порядок действий:\n",
        "\n",
        "1. Перевести модель в режим тренировки\n",
        "2. Создать критерион для подсчета ошибки\n",
        "3. Создать оптимизатор (Adam)\n",
        "4. Переместить модель на gpu (если доступно)\n",
        "5. Создать словарь для метрик (train_loss, train_acc, val_loss, val_acc)\n",
        "6. Создать цикл для количества эпох\n",
        "7. Внутри цикла создать цикл для тренировочного и валидационного даталоадеров\n",
        "8. Внутри цикла для тренировочного даталоадера:\n",
        "    1. Обнулить градиенты\n",
        "    2. Переместить данные на gpu\n",
        "    3. Посчитать предсказания\n",
        "    4. Посчитать ошибку\n",
        "    5. Посчитать градиенты\n",
        "    6. Сделать шаг оптимизатора\n",
        "    7. Сохранить метрики\n",
        " 9. Внутри цикла для валидационного даталоадера:\n",
        "    1. Перевести модель в режим валидации\n",
        "    2. Посчитать предсказания\n",
        "    3. Посчитать ошибку\n",
        "    4. Сохранить метрики"
      ]
    },
    {
      "cell_type": "code",
      "execution_count": 10,
      "metadata": {
        "id": "l8Pi4SNNd9Iv"
      },
      "outputs": [],
      "source": [
        "from torch import nn\n",
        "from collections import defaultdict\n",
        "\n",
        "def get_string_output(epoch: int, metrics:dict[str, list]) -> str:\n",
        "    \"\"\"Print the epoch results\"\"\"\n",
        "    train_loss = metrics['train_loss'][epoch]\n",
        "    val_loss = metrics['val_loss'][epoch]\n",
        "    train_acc = metrics['train_acc'][epoch]\n",
        "    val_acc = metrics['val_acc'][epoch]\n",
        "    loss_string = f\"[Epoch {epoch + 1}] Train Loss: {train_loss:.4f}, Val Loss: {val_loss:.4f}, \"\n",
        "    acc_string = f\"Train Accuracy: {train_acc * 100:.2f}%, Val Accuracy: {val_acc * 100:.2f}%\"\n",
        "    return loss_string + acc_string\n",
        "\n",
        "def train_model(\n",
        "    model: nn.Module,\n",
        "    trainloader: DataLoader,\n",
        "    valloader: DataLoader,\n",
        "    num_epochs: int = 10,\n",
        "    lr: float = 1e-3,\n",
        ") -> dict[str, list[float]]:\n",
        "    metrics = dict(train_loss=[], val_loss=[], train_acc=[], val_acc=[])\n",
        "    # move model to GPU\n",
        "    device = torch.device(\"cuda\" if torch.cuda.is_available() else \"cpu\")\n",
        "    model.to(device)\n",
        "    # init loss, optimiser\n",
        "    criterion = nn.CrossEntropyLoss()\n",
        "    optimizer = torch.optim.AdamW(model.parameters(), lr=lr)\n",
        "    for epoch in range(num_epochs):\n",
        "        # save metrics from each batch to calculate mean per epoch\n",
        "        epoch_metrics = defaultdict(list)\n",
        "        model.train()\n",
        "        # Train loop\n",
        "        for data in trainloader:\n",
        "            inputs, labels = data[0].to(device), data[1].to(device)\n",
        "            optimizer.zero_grad()\n",
        "            outputs = model.forward(inputs)\n",
        "            loss = criterion(outputs, labels)\n",
        "            loss.backward()\n",
        "            optimizer.step()\n",
        "            acc = get_accuracy(outputs, labels)\n",
        "            epoch_metrics['train_acc'].append(acc)\n",
        "            epoch_metrics['train_loss'].append(loss.item())\n",
        "\n",
        "        # Validation loop\n",
        "        model.eval()\n",
        "        with torch.no_grad():\n",
        "            for data in valloader:\n",
        "                inputs, labels = data[0].to(device), data[1].to(device)\n",
        "                outputs = model(inputs)\n",
        "                loss = criterion(outputs, labels)\n",
        "                acc = get_accuracy(outputs, labels)\n",
        "                epoch_metrics['val_acc'].append(acc)\n",
        "                epoch_metrics['val_loss'].append(loss.item())\n",
        "        # Housekeeping\n",
        "        for k,v in epoch_metrics.items():\n",
        "            metrics[k].append(np.mean(v))\n",
        "        print(get_string_output(epoch, metrics))\n",
        "    return metrics"
      ]
    },
    {
      "cell_type": "markdown",
      "metadata": {
        "id": "lzD8etTjd9Iv"
      },
      "source": [
        "#### `test_model`\n",
        "\n",
        "Функция для тестирования модели. На вход подается модель и даталоадер для тестового датасета.\n",
        "\n",
        "Порядок действий похож на `train_model`, но с некоторыми отличиями:\n",
        "\n",
        "* Не нужно обновлять веса модели\n",
        "* Не нужно считать градиенты\n",
        "* Соответсвенно, не нужен оптимизатор\n",
        "* Нет цикла для эпохов\n",
        "* Только один цикл для даталоадера\n",
        "  \n",
        "Функция должна вернуть точность и лосс на тестовом датасете."
      ]
    },
    {
      "cell_type": "code",
      "execution_count": 11,
      "metadata": {
        "id": "0rU_fmzPd9Iv"
      },
      "outputs": [],
      "source": [
        "def test_model(model: nn.Module, testloader: DataLoader) -> tuple[float, float]:\n",
        "    device = torch.device(\"cuda\" if torch.cuda.is_available() else \"cpu\")\n",
        "    model.to(device)\n",
        "    model.eval()\n",
        "    acc = []\n",
        "    loss_report = []\n",
        "    criterion = nn.CrossEntropyLoss()\n",
        "    with torch.no_grad():\n",
        "        for data in testloader:\n",
        "            images, labels = data[0].to(device), data[1].to(device)\n",
        "            outputs = model(images)\n",
        "            loss = criterion(outputs, labels)\n",
        "            acc.append(get_accuracy(outputs, labels))\n",
        "            loss_report.append(loss.item())\n",
        "    return np.mean(loss_report), np.mean(acc)"
      ]
    },
    {
      "cell_type": "markdown",
      "metadata": {
        "id": "ZkuefNx0d9Iv"
      },
      "source": [
        "#### Проверка функций\n",
        "\n",
        "После этого можно проверить функции `train_model` и `test_model`.\n",
        "Для этого у вас есть модель `BadModel` (что она делает?).\n",
        "\n",
        "Попробуйте \"натренировать\" эту модель на одной эпохе и проверить работоспособность функций."
      ]
    },
    {
      "cell_type": "code",
      "execution_count": 12,
      "metadata": {
        "id": "_03dDEcdd9Iv",
        "colab": {
          "base_uri": "https://localhost:8080/"
        },
        "outputId": "3a1df348-70ff-4f13-ea81-5517077f9487"
      },
      "outputs": [
        {
          "output_type": "stream",
          "name": "stdout",
          "text": [
            "Files already downloaded and verified\n",
            "Files already downloaded and verified\n",
            "[Epoch 1] Train Loss: 2.5426, Val Loss: 2.4909, Train Accuracy: 6.72%, Val Accuracy: 7.06%\n",
            "[Epoch 2] Train Loss: 2.4631, Val Loss: 2.4246, Train Accuracy: 6.83%, Val Accuracy: 7.32%\n",
            "[Epoch 3] Train Loss: 2.4050, Val Loss: 2.3776, Train Accuracy: 7.25%, Val Accuracy: 8.12%\n",
            "[Epoch 4] Train Loss: 2.3630, Val Loss: 2.3435, Train Accuracy: 8.58%, Val Accuracy: 10.06%\n",
            "[Epoch 5] Train Loss: 2.3318, Val Loss: 2.3187, Train Accuracy: 9.88%, Val Accuracy: 10.26%\n",
            "Test Loss: 2.3180, Test acc: 10.80%\n"
          ]
        }
      ],
      "source": [
        "class BadModel(nn.Module):\n",
        "    def __init__(self):\n",
        "        super().__init__()\n",
        "        self.layer = nn.Linear(1, 10)\n",
        "\n",
        "    def forward(self, x):\n",
        "        xmean = x.mean(dim=(1, 2, 3)).unsqueeze(1)\n",
        "        x = self.layer(xmean)\n",
        "        return x\n",
        "\n",
        "\n",
        "trainloader, valloader, testloader = get_dataloaders()\n",
        "bad_model = BadModel()\n",
        "train_metrics = train_model(bad_model, trainloader, valloader, num_epochs=5)\n",
        "test_loss, test_acc = test_model(bad_model, testloader)\n",
        "print(f\"Test Loss: {test_loss:.4f}, Test acc: {test_acc * 100:.2f}%\")"
      ]
    },
    {
      "cell_type": "markdown",
      "metadata": {
        "id": "KTCpFViMd9Iv"
      },
      "source": [
        "### Создание моделей\n",
        "\n",
        "Если все прошло успешно, можно переходить к созданию моделей.\n",
        "\n",
        "#### Полносвязная нейросеть\n",
        "\n",
        "Параметры - 2 скрытых слоя размером 512 и 128 нейронов. Активация - ReLU.\n",
        "\n",
        "Используйте `nn.Linear`, `torch.relu`, `tensor.flatten` или `tensor.view`.\n",
        "\n",
        "Натренируйте модель на 30 эпохах. Посмотрите на точность на тренировочном, валидационном и тестовом датасетах.\n",
        "\n",
        "Постройте график лосса и точности на тренировочном и валидационном датасетах.\n",
        "\n",
        "**Вопросы:**\n",
        "\n",
        "1. Какая точность на тестовом датасете?\n",
        "2. Как быстро сходится модель?\n",
        "3. Происходит ли переобучение?\n",
        "4. Если да, то в какой момент?"
      ]
    },
    {
      "cell_type": "code",
      "execution_count": 13,
      "metadata": {
        "id": "aGisgeYEsRHR",
        "colab": {
          "base_uri": "https://localhost:8080/"
        },
        "outputId": "1d547f11-b04f-4b02-d72c-07cdf52da768"
      },
      "outputs": [
        {
          "output_type": "stream",
          "name": "stdout",
          "text": [
            "Files already downloaded and verified\n",
            "Files already downloaded and verified\n",
            "[Epoch 1] Train Loss: 1.7570, Val Loss: 1.6449, Train Accuracy: 37.47%, Val Accuracy: 41.27%\n",
            "[Epoch 2] Train Loss: 1.5683, Val Loss: 1.5577, Train Accuracy: 44.18%, Val Accuracy: 44.74%\n",
            "[Epoch 3] Train Loss: 1.4827, Val Loss: 1.5197, Train Accuracy: 47.28%, Val Accuracy: 47.07%\n",
            "[Epoch 4] Train Loss: 1.4372, Val Loss: 1.4735, Train Accuracy: 49.18%, Val Accuracy: 47.42%\n",
            "[Epoch 5] Train Loss: 1.3864, Val Loss: 1.4649, Train Accuracy: 50.68%, Val Accuracy: 48.62%\n",
            "[Epoch 6] Train Loss: 1.3609, Val Loss: 1.4473, Train Accuracy: 51.37%, Val Accuracy: 49.40%\n",
            "[Epoch 7] Train Loss: 1.3289, Val Loss: 1.4505, Train Accuracy: 52.68%, Val Accuracy: 49.04%\n",
            "[Epoch 8] Train Loss: 1.3023, Val Loss: 1.4351, Train Accuracy: 54.01%, Val Accuracy: 48.86%\n",
            "[Epoch 9] Train Loss: 1.2750, Val Loss: 1.4237, Train Accuracy: 54.81%, Val Accuracy: 50.15%\n",
            "[Epoch 10] Train Loss: 1.2487, Val Loss: 1.4002, Train Accuracy: 55.56%, Val Accuracy: 50.23%\n",
            "[Epoch 11] Train Loss: 1.2251, Val Loss: 1.4267, Train Accuracy: 56.82%, Val Accuracy: 49.96%\n",
            "[Epoch 12] Train Loss: 1.2091, Val Loss: 1.4062, Train Accuracy: 57.21%, Val Accuracy: 51.43%\n",
            "[Epoch 13] Train Loss: 1.1938, Val Loss: 1.4251, Train Accuracy: 57.88%, Val Accuracy: 50.37%\n",
            "[Epoch 14] Train Loss: 1.1797, Val Loss: 1.3971, Train Accuracy: 58.06%, Val Accuracy: 51.70%\n",
            "[Epoch 15] Train Loss: 1.1543, Val Loss: 1.4003, Train Accuracy: 59.23%, Val Accuracy: 50.95%\n",
            "[Epoch 16] Train Loss: 1.1407, Val Loss: 1.4065, Train Accuracy: 59.45%, Val Accuracy: 51.40%\n",
            "[Epoch 17] Train Loss: 1.1279, Val Loss: 1.3831, Train Accuracy: 59.97%, Val Accuracy: 51.36%\n",
            "[Epoch 18] Train Loss: 1.1192, Val Loss: 1.4169, Train Accuracy: 60.09%, Val Accuracy: 51.98%\n",
            "[Epoch 19] Train Loss: 1.1030, Val Loss: 1.4304, Train Accuracy: 60.75%, Val Accuracy: 51.05%\n",
            "[Epoch 20] Train Loss: 1.0904, Val Loss: 1.4146, Train Accuracy: 61.28%, Val Accuracy: 51.45%\n",
            "[Epoch 21] Train Loss: 1.0801, Val Loss: 1.4292, Train Accuracy: 61.84%, Val Accuracy: 51.68%\n",
            "[Epoch 22] Train Loss: 1.0705, Val Loss: 1.4404, Train Accuracy: 61.81%, Val Accuracy: 51.58%\n",
            "[Epoch 23] Train Loss: 1.0557, Val Loss: 1.4396, Train Accuracy: 62.41%, Val Accuracy: 51.26%\n",
            "[Epoch 24] Train Loss: 1.0417, Val Loss: 1.4452, Train Accuracy: 63.08%, Val Accuracy: 51.65%\n",
            "[Epoch 25] Train Loss: 1.0343, Val Loss: 1.4355, Train Accuracy: 63.25%, Val Accuracy: 51.71%\n",
            "[Epoch 26] Train Loss: 1.0192, Val Loss: 1.4634, Train Accuracy: 63.92%, Val Accuracy: 51.12%\n",
            "[Epoch 27] Train Loss: 1.0062, Val Loss: 1.4343, Train Accuracy: 64.30%, Val Accuracy: 53.18%\n",
            "[Epoch 28] Train Loss: 0.9942, Val Loss: 1.4148, Train Accuracy: 64.52%, Val Accuracy: 53.00%\n",
            "[Epoch 29] Train Loss: 0.9896, Val Loss: 1.4645, Train Accuracy: 64.90%, Val Accuracy: 52.28%\n",
            "[Epoch 30] Train Loss: 0.9770, Val Loss: 1.4532, Train Accuracy: 65.39%, Val Accuracy: 52.59%\n",
            "Test Loss: 1.4927, Test acc: 52.18%\n"
          ]
        }
      ],
      "source": [
        "class SimpleNN(nn.Module):\n",
        "    def __init__(self, image_size : int = 32, channels: int = 3): #CIFAR10 - image size 32x32x3\n",
        "        super().__init__()\n",
        "\n",
        "        self.fc1 = nn.Linear(image_size * image_size * channels, 512)\n",
        "        self.fc2 = nn.Linear(512, 128)\n",
        "        self.fc3 = nn.Linear(128, 10)\n",
        "\n",
        "    def forward(self, x:torch.Tensor) -> torch.Tensor:\n",
        "        x = x.flatten(1, -1)\n",
        "        x = torch.relu(self.fc1(x))\n",
        "        x = torch.relu(self.fc2(x))\n",
        "        x = self.fc3(x)\n",
        "        return x\n",
        "\n",
        "\n",
        "trainloader, valloader, testloader = get_dataloaders()\n",
        "model = SimpleNN()\n",
        "train_metrics_simple = train_model(model, trainloader, valloader, num_epochs=30)\n",
        "test_loss_simple, test_acc_simple = test_model(model, testloader)\n",
        "print(f\"Test Loss: {test_loss_simple:.4f}, Test acc: {test_acc_simple * 100:.2f}%\")"
      ]
    },
    {
      "cell_type": "code",
      "source": [
        "test_loss_simple, test_acc_simple = test_model(model, testloader)\n",
        "print(f\"Test Loss: {test_loss_simple:.4f}, Test acc: {test_acc_simple * 100:.2f}%\")"
      ],
      "metadata": {
        "colab": {
          "base_uri": "https://localhost:8080/"
        },
        "id": "w1jiBY5sQVWS",
        "outputId": "51583243-b994-402a-b103-b88dce47807c"
      },
      "execution_count": 14,
      "outputs": [
        {
          "output_type": "stream",
          "name": "stdout",
          "text": [
            "Test Loss: 1.4927, Test acc: 52.18%\n"
          ]
        }
      ]
    },
    {
      "cell_type": "code",
      "source": [
        "def plot_accuracy_loss(p_train_metrics : defaultdict(list)) :\n",
        "  fig = go.Figure()\n",
        "  x = x=torch.arange(1, len(p_train_metrics['train_acc']))\n",
        "  fig.add_trace(go.Scatter(x=x, y=p_train_metrics['train_acc'], mode='lines', name='Train accuracy', opacity=0.7))\n",
        "  fig.add_trace(go.Scatter(x=x, y=p_train_metrics['val_acc'], mode='lines', name='Validation accuracy', opacity=0.7))\n",
        "  fig.add_trace(go.Scatter(x=x, y=p_train_metrics['train_loss'], mode='lines', name='Train loss', opacity=0.7))\n",
        "  fig.add_trace(go.Scatter(x=x, y=p_train_metrics['val_loss'], mode='lines', name='Validation loss', opacity=0.7))\n",
        "  fig.update_layout(title='Accuracy & loss', width=800, height=600, xaxis_title='Epoch', yaxis_title='Accuracy & loss')\n",
        "  fig.show()\n",
        "\n",
        "plot_accuracy_loss(train_metrics_simple)"
      ],
      "metadata": {
        "colab": {
          "base_uri": "https://localhost:8080/",
          "height": 617
        },
        "id": "GuvSz0LTVy1T",
        "outputId": "856ce592-6cee-41d2-99f8-e311f1af2d7c"
      },
      "execution_count": 15,
      "outputs": [
        {
          "output_type": "display_data",
          "data": {
            "text/html": [
              "<html>\n",
              "<head><meta charset=\"utf-8\" /></head>\n",
              "<body>\n",
              "    <div>            <script src=\"https://cdnjs.cloudflare.com/ajax/libs/mathjax/2.7.5/MathJax.js?config=TeX-AMS-MML_SVG\"></script><script type=\"text/javascript\">if (window.MathJax && window.MathJax.Hub && window.MathJax.Hub.Config) {window.MathJax.Hub.Config({SVG: {font: \"STIX-Web\"}});}</script>                <script type=\"text/javascript\">window.PlotlyConfig = {MathJaxConfig: 'local'};</script>\n",
              "        <script charset=\"utf-8\" src=\"https://cdn.plot.ly/plotly-2.24.1.min.js\"></script>                <div id=\"9750b976-3a25-4a3c-9894-2a13e35f6b07\" class=\"plotly-graph-div\" style=\"height:600px; width:800px;\"></div>            <script type=\"text/javascript\">                                    window.PLOTLYENV=window.PLOTLYENV || {};                                    if (document.getElementById(\"9750b976-3a25-4a3c-9894-2a13e35f6b07\")) {                    Plotly.newPlot(                        \"9750b976-3a25-4a3c-9894-2a13e35f6b07\",                        [{\"mode\":\"lines\",\"name\":\"Train accuracy\",\"opacity\":0.7,\"x\":[1,2,3,4,5,6,7,8,9,10,11,12,13,14,15,16,17,18,19,20,21,22,23,24,25,26,27,28,29],\"y\":[0.3746516719745223,0.4417545780254777,0.47280553343949044,0.49178941082802546,0.5068421576433121,0.5137091958598726,0.5268212579617835,0.5401074840764332,0.5480692675159236,0.5556329617834395,0.568172770700637,0.572079020700637,0.578796775477707,0.5805632961783439,0.5922820461783439,0.5945212977707006,0.5996964570063694,0.600890724522293,0.6074591958598726,0.6127587579617835,0.6183817675159236,0.6181080812101911,0.6241291799363057,0.630797173566879,0.6325139331210191,0.6391819267515924,0.6429886544585988,0.6451781449044586,0.6490097531847133,0.6539112261146497],\"type\":\"scatter\"},{\"mode\":\"lines\",\"name\":\"Validation accuracy\",\"opacity\":0.7,\"x\":[1,2,3,4,5,6,7,8,9,10,11,12,13,14,15,16,17,18,19,20,21,22,23,24,25,26,27,28,29],\"y\":[0.4126953125,0.44736328125,0.470703125,0.47421875,0.48623046875,0.49404296875,0.4904296875,0.48857421875,0.50146484375,0.50234375,0.499609375,0.5142578125,0.5037109375,0.5169921875,0.50947265625,0.51396484375,0.51357421875,0.51982421875,0.510546875,0.514453125,0.516796875,0.5158203125,0.51259765625,0.51650390625,0.51708984375,0.51123046875,0.5318359375,0.52998046875,0.52275390625,0.52587890625],\"type\":\"scatter\"},{\"mode\":\"lines\",\"name\":\"Train loss\",\"opacity\":0.7,\"x\":[1,2,3,4,5,6,7,8,9,10,11,12,13,14,15,16,17,18,19,20,21,22,23,24,25,26,27,28,29],\"y\":[1.7569734632589256,1.5682889420515413,1.4826932378635285,1.437198450610896,1.3863710704123138,1.3608930338719847,1.3288665736556813,1.3022572994232178,1.2749889929583118,1.2487010864695167,1.2250942234780378,1.2090547532792304,1.193787614251398,1.1797205707070175,1.1543118820828238,1.1407156305707944,1.127927570585992,1.1191576635761626,1.1030419267666567,1.0904075837439033,1.0801200357971676,1.0705375534713648,1.0557139474115553,1.0416696352563846,1.0343106134681945,1.0192351618390174,1.0062432444778977,0.9942027486054001,0.9895936292447861,0.977017244335952],\"type\":\"scatter\"},{\"mode\":\"lines\",\"name\":\"Validation loss\",\"opacity\":0.7,\"x\":[1,2,3,4,5,6,7,8,9,10,11,12,13,14,15,16,17,18,19,20,21,22,23,24,25,26,27,28,29],\"y\":[1.6449365496635437,1.557697907090187,1.5196897655725479,1.4734893798828126,1.464930894970894,1.4473428070545196,1.4504954755306243,1.4351170897483825,1.423702335357666,1.400222408771515,1.4266708225011826,1.4062319278717041,1.4251430571079253,1.3970545917749404,1.400340986251831,1.406539660692215,1.3831204622983932,1.416851681470871,1.4304163098335265,1.4146280586719513,1.4291967660188676,1.4403653591871262,1.4396066546440125,1.445195984840393,1.4355176359415054,1.4634197324514389,1.4342617034912108,1.4148039758205413,1.4645378798246385,1.4532035291194916],\"type\":\"scatter\"}],                        {\"template\":{\"data\":{\"histogram2dcontour\":[{\"type\":\"histogram2dcontour\",\"colorbar\":{\"outlinewidth\":0,\"ticks\":\"\"},\"colorscale\":[[0.0,\"#0d0887\"],[0.1111111111111111,\"#46039f\"],[0.2222222222222222,\"#7201a8\"],[0.3333333333333333,\"#9c179e\"],[0.4444444444444444,\"#bd3786\"],[0.5555555555555556,\"#d8576b\"],[0.6666666666666666,\"#ed7953\"],[0.7777777777777778,\"#fb9f3a\"],[0.8888888888888888,\"#fdca26\"],[1.0,\"#f0f921\"]]}],\"choropleth\":[{\"type\":\"choropleth\",\"colorbar\":{\"outlinewidth\":0,\"ticks\":\"\"}}],\"histogram2d\":[{\"type\":\"histogram2d\",\"colorbar\":{\"outlinewidth\":0,\"ticks\":\"\"},\"colorscale\":[[0.0,\"#0d0887\"],[0.1111111111111111,\"#46039f\"],[0.2222222222222222,\"#7201a8\"],[0.3333333333333333,\"#9c179e\"],[0.4444444444444444,\"#bd3786\"],[0.5555555555555556,\"#d8576b\"],[0.6666666666666666,\"#ed7953\"],[0.7777777777777778,\"#fb9f3a\"],[0.8888888888888888,\"#fdca26\"],[1.0,\"#f0f921\"]]}],\"heatmap\":[{\"type\":\"heatmap\",\"colorbar\":{\"outlinewidth\":0,\"ticks\":\"\"},\"colorscale\":[[0.0,\"#0d0887\"],[0.1111111111111111,\"#46039f\"],[0.2222222222222222,\"#7201a8\"],[0.3333333333333333,\"#9c179e\"],[0.4444444444444444,\"#bd3786\"],[0.5555555555555556,\"#d8576b\"],[0.6666666666666666,\"#ed7953\"],[0.7777777777777778,\"#fb9f3a\"],[0.8888888888888888,\"#fdca26\"],[1.0,\"#f0f921\"]]}],\"heatmapgl\":[{\"type\":\"heatmapgl\",\"colorbar\":{\"outlinewidth\":0,\"ticks\":\"\"},\"colorscale\":[[0.0,\"#0d0887\"],[0.1111111111111111,\"#46039f\"],[0.2222222222222222,\"#7201a8\"],[0.3333333333333333,\"#9c179e\"],[0.4444444444444444,\"#bd3786\"],[0.5555555555555556,\"#d8576b\"],[0.6666666666666666,\"#ed7953\"],[0.7777777777777778,\"#fb9f3a\"],[0.8888888888888888,\"#fdca26\"],[1.0,\"#f0f921\"]]}],\"contourcarpet\":[{\"type\":\"contourcarpet\",\"colorbar\":{\"outlinewidth\":0,\"ticks\":\"\"}}],\"contour\":[{\"type\":\"contour\",\"colorbar\":{\"outlinewidth\":0,\"ticks\":\"\"},\"colorscale\":[[0.0,\"#0d0887\"],[0.1111111111111111,\"#46039f\"],[0.2222222222222222,\"#7201a8\"],[0.3333333333333333,\"#9c179e\"],[0.4444444444444444,\"#bd3786\"],[0.5555555555555556,\"#d8576b\"],[0.6666666666666666,\"#ed7953\"],[0.7777777777777778,\"#fb9f3a\"],[0.8888888888888888,\"#fdca26\"],[1.0,\"#f0f921\"]]}],\"surface\":[{\"type\":\"surface\",\"colorbar\":{\"outlinewidth\":0,\"ticks\":\"\"},\"colorscale\":[[0.0,\"#0d0887\"],[0.1111111111111111,\"#46039f\"],[0.2222222222222222,\"#7201a8\"],[0.3333333333333333,\"#9c179e\"],[0.4444444444444444,\"#bd3786\"],[0.5555555555555556,\"#d8576b\"],[0.6666666666666666,\"#ed7953\"],[0.7777777777777778,\"#fb9f3a\"],[0.8888888888888888,\"#fdca26\"],[1.0,\"#f0f921\"]]}],\"mesh3d\":[{\"type\":\"mesh3d\",\"colorbar\":{\"outlinewidth\":0,\"ticks\":\"\"}}],\"scatter\":[{\"fillpattern\":{\"fillmode\":\"overlay\",\"size\":10,\"solidity\":0.2},\"type\":\"scatter\"}],\"parcoords\":[{\"type\":\"parcoords\",\"line\":{\"colorbar\":{\"outlinewidth\":0,\"ticks\":\"\"}}}],\"scatterpolargl\":[{\"type\":\"scatterpolargl\",\"marker\":{\"colorbar\":{\"outlinewidth\":0,\"ticks\":\"\"}}}],\"bar\":[{\"error_x\":{\"color\":\"#2a3f5f\"},\"error_y\":{\"color\":\"#2a3f5f\"},\"marker\":{\"line\":{\"color\":\"#E5ECF6\",\"width\":0.5},\"pattern\":{\"fillmode\":\"overlay\",\"size\":10,\"solidity\":0.2}},\"type\":\"bar\"}],\"scattergeo\":[{\"type\":\"scattergeo\",\"marker\":{\"colorbar\":{\"outlinewidth\":0,\"ticks\":\"\"}}}],\"scatterpolar\":[{\"type\":\"scatterpolar\",\"marker\":{\"colorbar\":{\"outlinewidth\":0,\"ticks\":\"\"}}}],\"histogram\":[{\"marker\":{\"pattern\":{\"fillmode\":\"overlay\",\"size\":10,\"solidity\":0.2}},\"type\":\"histogram\"}],\"scattergl\":[{\"type\":\"scattergl\",\"marker\":{\"colorbar\":{\"outlinewidth\":0,\"ticks\":\"\"}}}],\"scatter3d\":[{\"type\":\"scatter3d\",\"line\":{\"colorbar\":{\"outlinewidth\":0,\"ticks\":\"\"}},\"marker\":{\"colorbar\":{\"outlinewidth\":0,\"ticks\":\"\"}}}],\"scattermapbox\":[{\"type\":\"scattermapbox\",\"marker\":{\"colorbar\":{\"outlinewidth\":0,\"ticks\":\"\"}}}],\"scatterternary\":[{\"type\":\"scatterternary\",\"marker\":{\"colorbar\":{\"outlinewidth\":0,\"ticks\":\"\"}}}],\"scattercarpet\":[{\"type\":\"scattercarpet\",\"marker\":{\"colorbar\":{\"outlinewidth\":0,\"ticks\":\"\"}}}],\"carpet\":[{\"aaxis\":{\"endlinecolor\":\"#2a3f5f\",\"gridcolor\":\"white\",\"linecolor\":\"white\",\"minorgridcolor\":\"white\",\"startlinecolor\":\"#2a3f5f\"},\"baxis\":{\"endlinecolor\":\"#2a3f5f\",\"gridcolor\":\"white\",\"linecolor\":\"white\",\"minorgridcolor\":\"white\",\"startlinecolor\":\"#2a3f5f\"},\"type\":\"carpet\"}],\"table\":[{\"cells\":{\"fill\":{\"color\":\"#EBF0F8\"},\"line\":{\"color\":\"white\"}},\"header\":{\"fill\":{\"color\":\"#C8D4E3\"},\"line\":{\"color\":\"white\"}},\"type\":\"table\"}],\"barpolar\":[{\"marker\":{\"line\":{\"color\":\"#E5ECF6\",\"width\":0.5},\"pattern\":{\"fillmode\":\"overlay\",\"size\":10,\"solidity\":0.2}},\"type\":\"barpolar\"}],\"pie\":[{\"automargin\":true,\"type\":\"pie\"}]},\"layout\":{\"autotypenumbers\":\"strict\",\"colorway\":[\"#636efa\",\"#EF553B\",\"#00cc96\",\"#ab63fa\",\"#FFA15A\",\"#19d3f3\",\"#FF6692\",\"#B6E880\",\"#FF97FF\",\"#FECB52\"],\"font\":{\"color\":\"#2a3f5f\"},\"hovermode\":\"closest\",\"hoverlabel\":{\"align\":\"left\"},\"paper_bgcolor\":\"white\",\"plot_bgcolor\":\"#E5ECF6\",\"polar\":{\"bgcolor\":\"#E5ECF6\",\"angularaxis\":{\"gridcolor\":\"white\",\"linecolor\":\"white\",\"ticks\":\"\"},\"radialaxis\":{\"gridcolor\":\"white\",\"linecolor\":\"white\",\"ticks\":\"\"}},\"ternary\":{\"bgcolor\":\"#E5ECF6\",\"aaxis\":{\"gridcolor\":\"white\",\"linecolor\":\"white\",\"ticks\":\"\"},\"baxis\":{\"gridcolor\":\"white\",\"linecolor\":\"white\",\"ticks\":\"\"},\"caxis\":{\"gridcolor\":\"white\",\"linecolor\":\"white\",\"ticks\":\"\"}},\"coloraxis\":{\"colorbar\":{\"outlinewidth\":0,\"ticks\":\"\"}},\"colorscale\":{\"sequential\":[[0.0,\"#0d0887\"],[0.1111111111111111,\"#46039f\"],[0.2222222222222222,\"#7201a8\"],[0.3333333333333333,\"#9c179e\"],[0.4444444444444444,\"#bd3786\"],[0.5555555555555556,\"#d8576b\"],[0.6666666666666666,\"#ed7953\"],[0.7777777777777778,\"#fb9f3a\"],[0.8888888888888888,\"#fdca26\"],[1.0,\"#f0f921\"]],\"sequentialminus\":[[0.0,\"#0d0887\"],[0.1111111111111111,\"#46039f\"],[0.2222222222222222,\"#7201a8\"],[0.3333333333333333,\"#9c179e\"],[0.4444444444444444,\"#bd3786\"],[0.5555555555555556,\"#d8576b\"],[0.6666666666666666,\"#ed7953\"],[0.7777777777777778,\"#fb9f3a\"],[0.8888888888888888,\"#fdca26\"],[1.0,\"#f0f921\"]],\"diverging\":[[0,\"#8e0152\"],[0.1,\"#c51b7d\"],[0.2,\"#de77ae\"],[0.3,\"#f1b6da\"],[0.4,\"#fde0ef\"],[0.5,\"#f7f7f7\"],[0.6,\"#e6f5d0\"],[0.7,\"#b8e186\"],[0.8,\"#7fbc41\"],[0.9,\"#4d9221\"],[1,\"#276419\"]]},\"xaxis\":{\"gridcolor\":\"white\",\"linecolor\":\"white\",\"ticks\":\"\",\"title\":{\"standoff\":15},\"zerolinecolor\":\"white\",\"automargin\":true,\"zerolinewidth\":2},\"yaxis\":{\"gridcolor\":\"white\",\"linecolor\":\"white\",\"ticks\":\"\",\"title\":{\"standoff\":15},\"zerolinecolor\":\"white\",\"automargin\":true,\"zerolinewidth\":2},\"scene\":{\"xaxis\":{\"backgroundcolor\":\"#E5ECF6\",\"gridcolor\":\"white\",\"linecolor\":\"white\",\"showbackground\":true,\"ticks\":\"\",\"zerolinecolor\":\"white\",\"gridwidth\":2},\"yaxis\":{\"backgroundcolor\":\"#E5ECF6\",\"gridcolor\":\"white\",\"linecolor\":\"white\",\"showbackground\":true,\"ticks\":\"\",\"zerolinecolor\":\"white\",\"gridwidth\":2},\"zaxis\":{\"backgroundcolor\":\"#E5ECF6\",\"gridcolor\":\"white\",\"linecolor\":\"white\",\"showbackground\":true,\"ticks\":\"\",\"zerolinecolor\":\"white\",\"gridwidth\":2}},\"shapedefaults\":{\"line\":{\"color\":\"#2a3f5f\"}},\"annotationdefaults\":{\"arrowcolor\":\"#2a3f5f\",\"arrowhead\":0,\"arrowwidth\":1},\"geo\":{\"bgcolor\":\"white\",\"landcolor\":\"#E5ECF6\",\"subunitcolor\":\"white\",\"showland\":true,\"showlakes\":true,\"lakecolor\":\"white\"},\"title\":{\"x\":0.05},\"mapbox\":{\"style\":\"light\"}}},\"title\":{\"text\":\"Accuracy & loss\"},\"width\":800,\"height\":600,\"xaxis\":{\"title\":{\"text\":\"Epoch\"}},\"yaxis\":{\"title\":{\"text\":\"Accuracy & loss\"}}},                        {\"responsive\": true}                    ).then(function(){\n",
              "                            \n",
              "var gd = document.getElementById('9750b976-3a25-4a3c-9894-2a13e35f6b07');\n",
              "var x = new MutationObserver(function (mutations, observer) {{\n",
              "        var display = window.getComputedStyle(gd).display;\n",
              "        if (!display || display === 'none') {{\n",
              "            console.log([gd, 'removed!']);\n",
              "            Plotly.purge(gd);\n",
              "            observer.disconnect();\n",
              "        }}\n",
              "}});\n",
              "\n",
              "// Listen for the removal of the full notebook cells\n",
              "var notebookContainer = gd.closest('#notebook-container');\n",
              "if (notebookContainer) {{\n",
              "    x.observe(notebookContainer, {childList: true});\n",
              "}}\n",
              "\n",
              "// Listen for the clearing of the current output cell\n",
              "var outputEl = gd.closest('.output');\n",
              "if (outputEl) {{\n",
              "    x.observe(outputEl, {childList: true});\n",
              "}}\n",
              "\n",
              "                        })                };                            </script>        </div>\n",
              "</body>\n",
              "</html>"
            ]
          },
          "metadata": {}
        }
      ]
    },
    {
      "cell_type": "code",
      "source": [],
      "metadata": {
        "id": "Yw7GHbF8WliD"
      },
      "execution_count": 15,
      "outputs": []
    },
    {
      "cell_type": "markdown",
      "metadata": {
        "id": "pnKh9kyHd9Iv"
      },
      "source": [
        "#### Сверточная нейросеть\n",
        "\n",
        "Параметры - 3 сверточных слоя с макс пуллингом и 2 полносвязных слоя. Активацонная функция тоже ReLU.\n",
        "\n",
        "Используйте `nn.Conv2d`, `nn.MaxPool2d`, остальные функции как в предыдущей модели.\n",
        "\n",
        "Для сверточных слоев используйте `kernel_size=3`, `padding=1`, `stride=1`. Для макс пуллинга `kernel_size=2`, `stride=2`.\n",
        "\n",
        "Натренируйте модель на 30 эпохах. Посмотрите на точность на тренировочном, валидационном и тестовом датасетах.\n",
        "\n",
        "Постройте график лосса и точности на тренировочном и валидационном датасетах.\n",
        "\n",
        "**Вопросы:**\n",
        "\n",
        "1. Какая точность на тестовом датасете?\n",
        "2. Как быстро сходится модель?\n",
        "3. Происходит ли переобучение?\n",
        "4. Если да, то в какой момент?\n",
        "5. Какая модель лучше, полносвязная или сверточная?"
      ]
    },
    {
      "cell_type": "code",
      "execution_count": 16,
      "metadata": {
        "id": "6QL655Tpd9Iv",
        "colab": {
          "base_uri": "https://localhost:8080/"
        },
        "outputId": "94dac379-51dd-4ad5-df9f-7c65d7c552e3"
      },
      "outputs": [
        {
          "output_type": "stream",
          "name": "stdout",
          "text": [
            "Files already downloaded and verified\n",
            "Files already downloaded and verified\n",
            "[Epoch 1] Train Loss: 1.6947, Val Loss: 1.5696, Train Accuracy: 38.38%, Val Accuracy: 42.87%\n",
            "[Epoch 2] Train Loss: 1.3642, Val Loss: 1.3485, Train Accuracy: 50.68%, Val Accuracy: 52.46%\n",
            "[Epoch 3] Train Loss: 1.2108, Val Loss: 1.1786, Train Accuracy: 56.56%, Val Accuracy: 57.95%\n",
            "[Epoch 4] Train Loss: 1.0853, Val Loss: 1.1696, Train Accuracy: 61.47%, Val Accuracy: 58.57%\n",
            "[Epoch 5] Train Loss: 0.9904, Val Loss: 1.0656, Train Accuracy: 65.09%, Val Accuracy: 63.20%\n",
            "[Epoch 6] Train Loss: 0.9073, Val Loss: 0.9763, Train Accuracy: 68.03%, Val Accuracy: 66.11%\n",
            "[Epoch 7] Train Loss: 0.8316, Val Loss: 0.9635, Train Accuracy: 70.68%, Val Accuracy: 66.37%\n",
            "[Epoch 8] Train Loss: 0.7915, Val Loss: 0.8924, Train Accuracy: 72.15%, Val Accuracy: 68.93%\n",
            "[Epoch 9] Train Loss: 0.7244, Val Loss: 0.9134, Train Accuracy: 74.51%, Val Accuracy: 68.17%\n",
            "[Epoch 10] Train Loss: 0.6945, Val Loss: 0.8734, Train Accuracy: 75.61%, Val Accuracy: 70.21%\n",
            "[Epoch 11] Train Loss: 0.6409, Val Loss: 0.8673, Train Accuracy: 77.54%, Val Accuracy: 70.39%\n",
            "[Epoch 12] Train Loss: 0.6017, Val Loss: 0.8637, Train Accuracy: 78.77%, Val Accuracy: 71.80%\n",
            "[Epoch 13] Train Loss: 0.5757, Val Loss: 0.8963, Train Accuracy: 79.67%, Val Accuracy: 71.02%\n",
            "[Epoch 14] Train Loss: 0.5430, Val Loss: 0.9220, Train Accuracy: 80.90%, Val Accuracy: 70.10%\n",
            "[Epoch 15] Train Loss: 0.5028, Val Loss: 0.9267, Train Accuracy: 82.31%, Val Accuracy: 71.09%\n",
            "[Epoch 16] Train Loss: 0.4752, Val Loss: 0.9153, Train Accuracy: 83.27%, Val Accuracy: 71.18%\n",
            "[Epoch 17] Train Loss: 0.4494, Val Loss: 0.8984, Train Accuracy: 84.14%, Val Accuracy: 71.50%\n",
            "[Epoch 18] Train Loss: 0.4218, Val Loss: 0.9588, Train Accuracy: 85.01%, Val Accuracy: 71.65%\n",
            "[Epoch 19] Train Loss: 0.4082, Val Loss: 0.9301, Train Accuracy: 85.69%, Val Accuracy: 71.54%\n",
            "[Epoch 20] Train Loss: 0.3803, Val Loss: 0.9138, Train Accuracy: 86.60%, Val Accuracy: 72.19%\n",
            "[Epoch 21] Train Loss: 0.3662, Val Loss: 0.9502, Train Accuracy: 87.29%, Val Accuracy: 72.07%\n",
            "[Epoch 22] Train Loss: 0.3467, Val Loss: 0.9575, Train Accuracy: 87.91%, Val Accuracy: 72.26%\n",
            "[Epoch 23] Train Loss: 0.3282, Val Loss: 0.9677, Train Accuracy: 88.27%, Val Accuracy: 71.84%\n",
            "[Epoch 24] Train Loss: 0.3179, Val Loss: 0.9826, Train Accuracy: 88.71%, Val Accuracy: 71.04%\n",
            "[Epoch 25] Train Loss: 0.3009, Val Loss: 0.9588, Train Accuracy: 89.43%, Val Accuracy: 73.35%\n",
            "[Epoch 26] Train Loss: 0.2775, Val Loss: 0.9882, Train Accuracy: 90.17%, Val Accuracy: 72.72%\n",
            "[Epoch 27] Train Loss: 0.2670, Val Loss: 1.0309, Train Accuracy: 90.48%, Val Accuracy: 72.29%\n",
            "[Epoch 28] Train Loss: 0.2623, Val Loss: 1.0437, Train Accuracy: 90.69%, Val Accuracy: 72.71%\n",
            "[Epoch 29] Train Loss: 0.2399, Val Loss: 1.0655, Train Accuracy: 91.57%, Val Accuracy: 72.80%\n",
            "[Epoch 30] Train Loss: 0.2367, Val Loss: 1.1089, Train Accuracy: 91.71%, Val Accuracy: 72.88%\n",
            "Test Loss: 1.0110, Test acc: 76.36%\n"
          ]
        }
      ],
      "source": [
        "class SimpleCNN(nn.Module):\n",
        "    def __init__(self, image_size : int = 32, channels: int = 3):\n",
        "        super().__init__()\n",
        "        self.image_size = image_size\n",
        "        self.pool = nn.MaxPool2d(kernel_size = 2, stride = 2)\n",
        "        self.conv1 = nn.Conv2d(in_channels=3, out_channels=32, kernel_size=3, stride=1, padding=1)\n",
        "        self.conv2 = nn.Conv2d(in_channels=32, out_channels=64, kernel_size=3, stride=1, padding=1)\n",
        "        self.conv3 = nn.Conv2d(in_channels=64, out_channels=128, kernel_size=3, stride=1, padding=1)\n",
        "        self.fc1 = nn.Linear(128 * 4 * 4, 512)\n",
        "\n",
        "        self.fc2 = nn.Linear(512, 256)\n",
        "        self.fc3 = nn.Linear(256, 10)\n",
        "\n",
        "    def forward(self, x:torch.Tensor) -> torch.Tensor:\n",
        "        x = self.pool(torch.relu(self.conv1(x)))\n",
        "        x = self.pool(torch.relu(self.conv2(x)))\n",
        "        x = self.pool(torch.relu(self.conv3(x)))\n",
        "        x = x.flatten(1, -1)\n",
        "        #x = x.view(-1, 128 * 128 * 32)\n",
        "        x = torch.relu(self.fc1(x))\n",
        "        x = torch.relu(self.fc2(x))\n",
        "        x = self.fc3(x)\n",
        "        return x\n",
        "\n",
        "\n",
        "trainloader, valloader, testloader = get_dataloaders()\n",
        "model = SimpleCNN()\n",
        "train_metrics_simple_cnn = train_model(model, trainloader, valloader, num_epochs=30)\n",
        "test_loss_simple_cnn, test_acc_simple_cnn = test_model(model, testloader)\n",
        "print(f\"Test Loss: {test_loss_simple_cnn:.4f}, Test acc: {test_acc_simple_cnn * 100:.2f}%\")"
      ]
    },
    {
      "cell_type": "code",
      "execution_count": 17,
      "metadata": {
        "colab": {
          "base_uri": "https://localhost:8080/",
          "height": 617
        },
        "id": "5-8azfkaCIBb",
        "outputId": "04e49074-f845-45f2-d439-7e01981ce794"
      },
      "outputs": [
        {
          "output_type": "display_data",
          "data": {
            "text/html": [
              "<html>\n",
              "<head><meta charset=\"utf-8\" /></head>\n",
              "<body>\n",
              "    <div>            <script src=\"https://cdnjs.cloudflare.com/ajax/libs/mathjax/2.7.5/MathJax.js?config=TeX-AMS-MML_SVG\"></script><script type=\"text/javascript\">if (window.MathJax && window.MathJax.Hub && window.MathJax.Hub.Config) {window.MathJax.Hub.Config({SVG: {font: \"STIX-Web\"}});}</script>                <script type=\"text/javascript\">window.PlotlyConfig = {MathJaxConfig: 'local'};</script>\n",
              "        <script charset=\"utf-8\" src=\"https://cdn.plot.ly/plotly-2.24.1.min.js\"></script>                <div id=\"39b2a661-314a-453a-8b66-660d5b117080\" class=\"plotly-graph-div\" style=\"height:600px; width:800px;\"></div>            <script type=\"text/javascript\">                                    window.PLOTLYENV=window.PLOTLYENV || {};                                    if (document.getElementById(\"39b2a661-314a-453a-8b66-660d5b117080\")) {                    Plotly.newPlot(                        \"39b2a661-314a-453a-8b66-660d5b117080\",                        [{\"mode\":\"lines\",\"name\":\"Train accuracy\",\"opacity\":0.7,\"x\":[1,2,3,4,5,6,7,8,9,10,11,12,13,14,15,16,17,18,19,20,21,22,23,24,25,26,27,28,29],\"y\":[0.3837579617834395,0.5068172770700637,0.5656100716560509,0.6146745621019108,0.6508509156050956,0.6802846337579618,0.7067575636942676,0.7214868630573248,0.7451482882165605,0.7561206210191083,0.7753781847133758,0.7876940684713376,0.7966759554140127,0.8090167197452229,0.82312400477707,0.8326532643312102,0.8413614649681529,0.8500696656050956,0.8568869426751592,0.8660181130573248,0.8728851512738853,0.8791052945859873,0.8827129777070064,0.8870670780254777,0.8942824442675159,0.9016968550955414,0.9048069267515924,0.906921775477707,0.9157046178343949,0.9170730493630573],\"type\":\"scatter\"},{\"mode\":\"lines\",\"name\":\"Validation accuracy\",\"opacity\":0.7,\"x\":[1,2,3,4,5,6,7,8,9,10,11,12,13,14,15,16,17,18,19,20,21,22,23,24,25,26,27,28,29],\"y\":[0.4287109375,0.524609375,0.5794921875,0.5857421875,0.63203125,0.6611328125,0.663671875,0.6892578125,0.68173828125,0.7021484375,0.70390625,0.71796875,0.71015625,0.7009765625,0.7109375,0.71181640625,0.7150390625,0.71650390625,0.7154296875,0.721875,0.720703125,0.72255859375,0.718359375,0.71044921875,0.73349609375,0.72724609375,0.7228515625,0.7271484375,0.72802734375,0.72880859375],\"type\":\"scatter\"},{\"mode\":\"lines\",\"name\":\"Train loss\",\"opacity\":0.7,\"x\":[1,2,3,4,5,6,7,8,9,10,11,12,13,14,15,16,17,18,19,20,21,22,23,24,25,26,27,28,29],\"y\":[1.6947134353552655,1.3641972625331513,1.2108064791199509,1.0853104534422515,0.99037623633245,0.9073249344613142,0.831636741662481,0.7914699893088857,0.7243974178459993,0.694528125653601,0.6409055002176078,0.6017443465579088,0.5757298008271843,0.5429751073858541,0.5028052280662926,0.47520092243601564,0.4493571367992717,0.421820149110381,0.4081975925879873,0.380268374066444,0.3661959204514315,0.34670581796746347,0.3281807405933453,0.3179256428199209,0.30089786316558814,0.2775023799792976,0.2669535830711863,0.2623473719996252,0.23990189616277718,0.23671410873437385],\"type\":\"scatter\"},{\"mode\":\"lines\",\"name\":\"Validation loss\",\"opacity\":0.7,\"x\":[1,2,3,4,5,6,7,8,9,10,11,12,13,14,15,16,17,18,19,20,21,22,23,24,25,26,27,28,29],\"y\":[1.5696376025676728,1.3485069215297698,1.17858125269413,1.1696350067853927,1.065567409992218,0.9763419464230537,0.9634997874498368,0.8924097016453743,0.9133985504508019,0.8734311178326607,0.8672626540064812,0.8637413218617439,0.8963142737746239,0.9219852790236474,0.9267043456435203,0.9152997359633446,0.8983964934945107,0.9588142439723015,0.9300704166293144,0.9137924388051033,0.9501646682620049,0.957540588080883,0.9677027389407158,0.9825728341937066,0.9588246926665306,0.9882146388292312,1.0309078112244605,1.0437016531825065,1.0654877603054047,1.108935572206974],\"type\":\"scatter\"}],                        {\"template\":{\"data\":{\"histogram2dcontour\":[{\"type\":\"histogram2dcontour\",\"colorbar\":{\"outlinewidth\":0,\"ticks\":\"\"},\"colorscale\":[[0.0,\"#0d0887\"],[0.1111111111111111,\"#46039f\"],[0.2222222222222222,\"#7201a8\"],[0.3333333333333333,\"#9c179e\"],[0.4444444444444444,\"#bd3786\"],[0.5555555555555556,\"#d8576b\"],[0.6666666666666666,\"#ed7953\"],[0.7777777777777778,\"#fb9f3a\"],[0.8888888888888888,\"#fdca26\"],[1.0,\"#f0f921\"]]}],\"choropleth\":[{\"type\":\"choropleth\",\"colorbar\":{\"outlinewidth\":0,\"ticks\":\"\"}}],\"histogram2d\":[{\"type\":\"histogram2d\",\"colorbar\":{\"outlinewidth\":0,\"ticks\":\"\"},\"colorscale\":[[0.0,\"#0d0887\"],[0.1111111111111111,\"#46039f\"],[0.2222222222222222,\"#7201a8\"],[0.3333333333333333,\"#9c179e\"],[0.4444444444444444,\"#bd3786\"],[0.5555555555555556,\"#d8576b\"],[0.6666666666666666,\"#ed7953\"],[0.7777777777777778,\"#fb9f3a\"],[0.8888888888888888,\"#fdca26\"],[1.0,\"#f0f921\"]]}],\"heatmap\":[{\"type\":\"heatmap\",\"colorbar\":{\"outlinewidth\":0,\"ticks\":\"\"},\"colorscale\":[[0.0,\"#0d0887\"],[0.1111111111111111,\"#46039f\"],[0.2222222222222222,\"#7201a8\"],[0.3333333333333333,\"#9c179e\"],[0.4444444444444444,\"#bd3786\"],[0.5555555555555556,\"#d8576b\"],[0.6666666666666666,\"#ed7953\"],[0.7777777777777778,\"#fb9f3a\"],[0.8888888888888888,\"#fdca26\"],[1.0,\"#f0f921\"]]}],\"heatmapgl\":[{\"type\":\"heatmapgl\",\"colorbar\":{\"outlinewidth\":0,\"ticks\":\"\"},\"colorscale\":[[0.0,\"#0d0887\"],[0.1111111111111111,\"#46039f\"],[0.2222222222222222,\"#7201a8\"],[0.3333333333333333,\"#9c179e\"],[0.4444444444444444,\"#bd3786\"],[0.5555555555555556,\"#d8576b\"],[0.6666666666666666,\"#ed7953\"],[0.7777777777777778,\"#fb9f3a\"],[0.8888888888888888,\"#fdca26\"],[1.0,\"#f0f921\"]]}],\"contourcarpet\":[{\"type\":\"contourcarpet\",\"colorbar\":{\"outlinewidth\":0,\"ticks\":\"\"}}],\"contour\":[{\"type\":\"contour\",\"colorbar\":{\"outlinewidth\":0,\"ticks\":\"\"},\"colorscale\":[[0.0,\"#0d0887\"],[0.1111111111111111,\"#46039f\"],[0.2222222222222222,\"#7201a8\"],[0.3333333333333333,\"#9c179e\"],[0.4444444444444444,\"#bd3786\"],[0.5555555555555556,\"#d8576b\"],[0.6666666666666666,\"#ed7953\"],[0.7777777777777778,\"#fb9f3a\"],[0.8888888888888888,\"#fdca26\"],[1.0,\"#f0f921\"]]}],\"surface\":[{\"type\":\"surface\",\"colorbar\":{\"outlinewidth\":0,\"ticks\":\"\"},\"colorscale\":[[0.0,\"#0d0887\"],[0.1111111111111111,\"#46039f\"],[0.2222222222222222,\"#7201a8\"],[0.3333333333333333,\"#9c179e\"],[0.4444444444444444,\"#bd3786\"],[0.5555555555555556,\"#d8576b\"],[0.6666666666666666,\"#ed7953\"],[0.7777777777777778,\"#fb9f3a\"],[0.8888888888888888,\"#fdca26\"],[1.0,\"#f0f921\"]]}],\"mesh3d\":[{\"type\":\"mesh3d\",\"colorbar\":{\"outlinewidth\":0,\"ticks\":\"\"}}],\"scatter\":[{\"fillpattern\":{\"fillmode\":\"overlay\",\"size\":10,\"solidity\":0.2},\"type\":\"scatter\"}],\"parcoords\":[{\"type\":\"parcoords\",\"line\":{\"colorbar\":{\"outlinewidth\":0,\"ticks\":\"\"}}}],\"scatterpolargl\":[{\"type\":\"scatterpolargl\",\"marker\":{\"colorbar\":{\"outlinewidth\":0,\"ticks\":\"\"}}}],\"bar\":[{\"error_x\":{\"color\":\"#2a3f5f\"},\"error_y\":{\"color\":\"#2a3f5f\"},\"marker\":{\"line\":{\"color\":\"#E5ECF6\",\"width\":0.5},\"pattern\":{\"fillmode\":\"overlay\",\"size\":10,\"solidity\":0.2}},\"type\":\"bar\"}],\"scattergeo\":[{\"type\":\"scattergeo\",\"marker\":{\"colorbar\":{\"outlinewidth\":0,\"ticks\":\"\"}}}],\"scatterpolar\":[{\"type\":\"scatterpolar\",\"marker\":{\"colorbar\":{\"outlinewidth\":0,\"ticks\":\"\"}}}],\"histogram\":[{\"marker\":{\"pattern\":{\"fillmode\":\"overlay\",\"size\":10,\"solidity\":0.2}},\"type\":\"histogram\"}],\"scattergl\":[{\"type\":\"scattergl\",\"marker\":{\"colorbar\":{\"outlinewidth\":0,\"ticks\":\"\"}}}],\"scatter3d\":[{\"type\":\"scatter3d\",\"line\":{\"colorbar\":{\"outlinewidth\":0,\"ticks\":\"\"}},\"marker\":{\"colorbar\":{\"outlinewidth\":0,\"ticks\":\"\"}}}],\"scattermapbox\":[{\"type\":\"scattermapbox\",\"marker\":{\"colorbar\":{\"outlinewidth\":0,\"ticks\":\"\"}}}],\"scatterternary\":[{\"type\":\"scatterternary\",\"marker\":{\"colorbar\":{\"outlinewidth\":0,\"ticks\":\"\"}}}],\"scattercarpet\":[{\"type\":\"scattercarpet\",\"marker\":{\"colorbar\":{\"outlinewidth\":0,\"ticks\":\"\"}}}],\"carpet\":[{\"aaxis\":{\"endlinecolor\":\"#2a3f5f\",\"gridcolor\":\"white\",\"linecolor\":\"white\",\"minorgridcolor\":\"white\",\"startlinecolor\":\"#2a3f5f\"},\"baxis\":{\"endlinecolor\":\"#2a3f5f\",\"gridcolor\":\"white\",\"linecolor\":\"white\",\"minorgridcolor\":\"white\",\"startlinecolor\":\"#2a3f5f\"},\"type\":\"carpet\"}],\"table\":[{\"cells\":{\"fill\":{\"color\":\"#EBF0F8\"},\"line\":{\"color\":\"white\"}},\"header\":{\"fill\":{\"color\":\"#C8D4E3\"},\"line\":{\"color\":\"white\"}},\"type\":\"table\"}],\"barpolar\":[{\"marker\":{\"line\":{\"color\":\"#E5ECF6\",\"width\":0.5},\"pattern\":{\"fillmode\":\"overlay\",\"size\":10,\"solidity\":0.2}},\"type\":\"barpolar\"}],\"pie\":[{\"automargin\":true,\"type\":\"pie\"}]},\"layout\":{\"autotypenumbers\":\"strict\",\"colorway\":[\"#636efa\",\"#EF553B\",\"#00cc96\",\"#ab63fa\",\"#FFA15A\",\"#19d3f3\",\"#FF6692\",\"#B6E880\",\"#FF97FF\",\"#FECB52\"],\"font\":{\"color\":\"#2a3f5f\"},\"hovermode\":\"closest\",\"hoverlabel\":{\"align\":\"left\"},\"paper_bgcolor\":\"white\",\"plot_bgcolor\":\"#E5ECF6\",\"polar\":{\"bgcolor\":\"#E5ECF6\",\"angularaxis\":{\"gridcolor\":\"white\",\"linecolor\":\"white\",\"ticks\":\"\"},\"radialaxis\":{\"gridcolor\":\"white\",\"linecolor\":\"white\",\"ticks\":\"\"}},\"ternary\":{\"bgcolor\":\"#E5ECF6\",\"aaxis\":{\"gridcolor\":\"white\",\"linecolor\":\"white\",\"ticks\":\"\"},\"baxis\":{\"gridcolor\":\"white\",\"linecolor\":\"white\",\"ticks\":\"\"},\"caxis\":{\"gridcolor\":\"white\",\"linecolor\":\"white\",\"ticks\":\"\"}},\"coloraxis\":{\"colorbar\":{\"outlinewidth\":0,\"ticks\":\"\"}},\"colorscale\":{\"sequential\":[[0.0,\"#0d0887\"],[0.1111111111111111,\"#46039f\"],[0.2222222222222222,\"#7201a8\"],[0.3333333333333333,\"#9c179e\"],[0.4444444444444444,\"#bd3786\"],[0.5555555555555556,\"#d8576b\"],[0.6666666666666666,\"#ed7953\"],[0.7777777777777778,\"#fb9f3a\"],[0.8888888888888888,\"#fdca26\"],[1.0,\"#f0f921\"]],\"sequentialminus\":[[0.0,\"#0d0887\"],[0.1111111111111111,\"#46039f\"],[0.2222222222222222,\"#7201a8\"],[0.3333333333333333,\"#9c179e\"],[0.4444444444444444,\"#bd3786\"],[0.5555555555555556,\"#d8576b\"],[0.6666666666666666,\"#ed7953\"],[0.7777777777777778,\"#fb9f3a\"],[0.8888888888888888,\"#fdca26\"],[1.0,\"#f0f921\"]],\"diverging\":[[0,\"#8e0152\"],[0.1,\"#c51b7d\"],[0.2,\"#de77ae\"],[0.3,\"#f1b6da\"],[0.4,\"#fde0ef\"],[0.5,\"#f7f7f7\"],[0.6,\"#e6f5d0\"],[0.7,\"#b8e186\"],[0.8,\"#7fbc41\"],[0.9,\"#4d9221\"],[1,\"#276419\"]]},\"xaxis\":{\"gridcolor\":\"white\",\"linecolor\":\"white\",\"ticks\":\"\",\"title\":{\"standoff\":15},\"zerolinecolor\":\"white\",\"automargin\":true,\"zerolinewidth\":2},\"yaxis\":{\"gridcolor\":\"white\",\"linecolor\":\"white\",\"ticks\":\"\",\"title\":{\"standoff\":15},\"zerolinecolor\":\"white\",\"automargin\":true,\"zerolinewidth\":2},\"scene\":{\"xaxis\":{\"backgroundcolor\":\"#E5ECF6\",\"gridcolor\":\"white\",\"linecolor\":\"white\",\"showbackground\":true,\"ticks\":\"\",\"zerolinecolor\":\"white\",\"gridwidth\":2},\"yaxis\":{\"backgroundcolor\":\"#E5ECF6\",\"gridcolor\":\"white\",\"linecolor\":\"white\",\"showbackground\":true,\"ticks\":\"\",\"zerolinecolor\":\"white\",\"gridwidth\":2},\"zaxis\":{\"backgroundcolor\":\"#E5ECF6\",\"gridcolor\":\"white\",\"linecolor\":\"white\",\"showbackground\":true,\"ticks\":\"\",\"zerolinecolor\":\"white\",\"gridwidth\":2}},\"shapedefaults\":{\"line\":{\"color\":\"#2a3f5f\"}},\"annotationdefaults\":{\"arrowcolor\":\"#2a3f5f\",\"arrowhead\":0,\"arrowwidth\":1},\"geo\":{\"bgcolor\":\"white\",\"landcolor\":\"#E5ECF6\",\"subunitcolor\":\"white\",\"showland\":true,\"showlakes\":true,\"lakecolor\":\"white\"},\"title\":{\"x\":0.05},\"mapbox\":{\"style\":\"light\"}}},\"title\":{\"text\":\"Accuracy & loss\"},\"width\":800,\"height\":600,\"xaxis\":{\"title\":{\"text\":\"Epoch\"}},\"yaxis\":{\"title\":{\"text\":\"Accuracy & loss\"}}},                        {\"responsive\": true}                    ).then(function(){\n",
              "                            \n",
              "var gd = document.getElementById('39b2a661-314a-453a-8b66-660d5b117080');\n",
              "var x = new MutationObserver(function (mutations, observer) {{\n",
              "        var display = window.getComputedStyle(gd).display;\n",
              "        if (!display || display === 'none') {{\n",
              "            console.log([gd, 'removed!']);\n",
              "            Plotly.purge(gd);\n",
              "            observer.disconnect();\n",
              "        }}\n",
              "}});\n",
              "\n",
              "// Listen for the removal of the full notebook cells\n",
              "var notebookContainer = gd.closest('#notebook-container');\n",
              "if (notebookContainer) {{\n",
              "    x.observe(notebookContainer, {childList: true});\n",
              "}}\n",
              "\n",
              "// Listen for the clearing of the current output cell\n",
              "var outputEl = gd.closest('.output');\n",
              "if (outputEl) {{\n",
              "    x.observe(outputEl, {childList: true});\n",
              "}}\n",
              "\n",
              "                        })                };                            </script>        </div>\n",
              "</body>\n",
              "</html>"
            ]
          },
          "metadata": {}
        }
      ],
      "source": [
        "plot_accuracy_loss(train_metrics_simple_cnn)"
      ]
    },
    {
      "cell_type": "markdown",
      "metadata": {
        "id": "I4symsXPd9Iv"
      },
      "source": [
        "#### Крутая сверточная нейросеть\n",
        "\n",
        "Задание аналогично предыдущему, но добавьте все приемы, которые мы разбирали (Dropout, BatchNorm, Early Stopping, Weight Decay, Data Augmentation).\n",
        "Возможно Вам придется переписать функции `get_dataloaders`, `train_model` и `test_model`.\n",
        "\n",
        "Цель - точность в 80% на тестовом датасете. Ограничение в 30 эпох."
      ]
    },
    {
      "cell_type": "markdown",
      "metadata": {
        "id": "DHfJFmLCd9Iw"
      },
      "source": []
    },
    {
      "cell_type": "code",
      "source": [
        "def train_model_cnn(\n",
        "    model: nn.Module,\n",
        "    trainloader: DataLoader,\n",
        "    valloader: DataLoader,\n",
        "    num_epochs: int = 10,\n",
        "    learning_rate: float = 1e-3,\n",
        "    weight_decay = 2e-2,\n",
        ") -> dict[str, list[float]]:\n",
        "    metrics = dict(train_loss=[], val_loss=[], train_acc=[], val_acc=[])\n",
        "    # move model to GPU\n",
        "    device = torch.device(\"cuda\" if torch.cuda.is_available() else \"cpu\")\n",
        "    model.to(device)\n",
        "    # init loss, optimiser\n",
        "    criterion = nn.CrossEntropyLoss()\n",
        "    optimizer = torch.optim.AdamW(model.parameters(), lr=learning_rate, weight_decay=weight_decay)\n",
        "\n",
        "    learning_rate_decay_factor = 0.96\n",
        "    learning_rate_decay_step = 3\n",
        "    lr_scheduler = torch.optim.lr_scheduler.ExponentialLR(optimizer=optimizer, gamma=learning_rate_decay_factor, last_epoch=-1)\n",
        "\n",
        "    for epoch in range(num_epochs):\n",
        "        # save metrics from each batch to calculate mean per epoch\n",
        "        epoch_metrics = defaultdict(list)\n",
        "        model.train()\n",
        "        # Train loop\n",
        "        for data in trainloader:\n",
        "            inputs, labels = data[0].to(device), data[1].to(device)\n",
        "            optimizer.zero_grad()\n",
        "            outputs = model.forward(inputs)\n",
        "            loss = criterion(outputs, labels)\n",
        "            loss.backward()\n",
        "            optimizer.step()\n",
        "            acc = get_accuracy(outputs, labels)\n",
        "            epoch_metrics['train_acc'].append(acc)\n",
        "            epoch_metrics['train_loss'].append(loss.item())\n",
        "\n",
        "        if epoch % learning_rate_decay_step == 0:\n",
        "            lr_scheduler.step()\n",
        "        print(f'Epoch {epoch} learning rate {lr_scheduler.get_last_lr()}')\n",
        "\n",
        "        # Validation loop\n",
        "        model.eval()\n",
        "        with torch.no_grad():\n",
        "            for data in valloader:\n",
        "                inputs, labels = data[0].to(device), data[1].to(device)\n",
        "                outputs = model(inputs)\n",
        "                loss = criterion(outputs, labels)\n",
        "                acc = get_accuracy(outputs, labels)\n",
        "                epoch_metrics['val_acc'].append(acc)\n",
        "                epoch_metrics['val_loss'].append(loss.item())\n",
        "        # Housekeeping\n",
        "        for k,v in epoch_metrics.items():\n",
        "            metrics[k].append(np.mean(v))\n",
        "        print(get_string_output(epoch, metrics))\n",
        "    return metrics"
      ],
      "metadata": {
        "id": "HaIW6DBBa3Pk"
      },
      "execution_count": 25,
      "outputs": []
    },
    {
      "cell_type": "code",
      "source": [
        "class ModifiedCNN(nn.Module):\n",
        "    def __init__(self, image_size : int = 32, channels: int = 3, p_dropout: float = 0.25):\n",
        "        super().__init__()\n",
        "        self.image_size = image_size\n",
        "        self.pool = nn.MaxPool2d(kernel_size = 2, stride = 2)\n",
        "        self.conv1 = nn.Conv2d(in_channels=3, out_channels=32, kernel_size=3, stride=1, padding=1)\n",
        "        self.conv2 = nn.Conv2d(in_channels=32, out_channels=64, kernel_size=3, stride=1, padding=1)\n",
        "        self.conv3 = nn.Conv2d(in_channels=64, out_channels=128, kernel_size=3, stride=1, padding=1)\n",
        "        self.batch32 = nn.BatchNorm2d(32)\n",
        "        self.batch64 = nn.BatchNorm2d(64)\n",
        "        self.batch128 = nn.BatchNorm2d(128)\n",
        "        self.fc1 = nn.Linear(128 * 4 * 4, 512)\n",
        "        self.fc2 = nn.Linear(512, 256)\n",
        "        self.fc3 = nn.Linear(256, 10)\n",
        "\n",
        "        self.dropout = nn.Dropout(p = p_dropout)\n",
        "\n",
        "    def forward(self, x:torch.Tensor) -> torch.Tensor:\n",
        "        x = self.pool(torch.relu(self.batch32(self.conv1(x))))\n",
        "        #x = self.dropout(x)\n",
        "        x = self.pool(torch.relu(self.batch64(self.conv2(x))))\n",
        "        #x = self.dropout(x)\n",
        "        x = self.pool(torch.relu(self.batch128(self.conv3(x))))\n",
        "        x = self.dropout(x)\n",
        "        x = x.flatten(1, -1)\n",
        "        #x = x.view(-1, 128 * 128 * 32)\n",
        "        x = torch.relu(self.fc1(x))\n",
        "        x = self.dropout(x)\n",
        "        x = torch.relu(self.fc2(x))\n",
        "        x = self.dropout(x)\n",
        "        x = self.fc3(x)\n",
        "        return x\n",
        "\n",
        "\n",
        "trainloader, valloader, testloader = get_dataloaders()\n",
        "model = ModifiedCNN(p_dropout = 0.2)\n",
        "train_metrics_modified_cnn = train_model_cnn(model, trainloader, valloader, num_epochs=30)\n",
        "test_loss_modified_cnn, test_acc_modified_cnn = test_model(model, testloader)\n",
        "print(f\"Test Loss: {test_loss_modified_cnn:.4f}, Test acc: {test_acc_modified_cnn * 100:.2f}%\")"
      ],
      "metadata": {
        "colab": {
          "base_uri": "https://localhost:8080/"
        },
        "id": "FXMesNkNsGGd",
        "outputId": "51900e1f-4a6e-4319-c5ea-806b8dfdffbb"
      },
      "execution_count": 26,
      "outputs": [
        {
          "output_type": "stream",
          "name": "stdout",
          "text": [
            "Files already downloaded and verified\n",
            "Files already downloaded and verified\n"
          ]
        },
        {
          "output_type": "stream",
          "name": "stderr",
          "text": [
            "/usr/local/lib/python3.10/dist-packages/torch/utils/data/dataloader.py:558: UserWarning:\n",
            "\n",
            "This DataLoader will create 8 worker processes in total. Our suggested max number of worker in current system is 2, which is smaller than what this DataLoader is going to create. Please be aware that excessive worker creation might get DataLoader running slow or even freeze, lower the worker number to avoid potential slowness/freeze if necessary.\n",
            "\n",
            "/usr/lib/python3.10/multiprocessing/popen_fork.py:66: RuntimeWarning:\n",
            "\n",
            "os.fork() was called. os.fork() is incompatible with multithreaded code, and JAX is multithreaded, so this will likely lead to a deadlock.\n",
            "\n"
          ]
        },
        {
          "output_type": "stream",
          "name": "stdout",
          "text": [
            "Epoch 0 learning rate [0.00096]\n",
            "[Epoch 1] Train Loss: 1.6777, Val Loss: 1.3823, Train Accuracy: 37.89%, Val Accuracy: 49.68%\n",
            "Epoch 1 learning rate [0.00096]\n",
            "[Epoch 2] Train Loss: 1.3887, Val Loss: 1.3289, Train Accuracy: 49.84%, Val Accuracy: 52.91%\n",
            "Epoch 2 learning rate [0.00096]\n",
            "[Epoch 3] Train Loss: 1.2772, Val Loss: 1.1740, Train Accuracy: 54.24%, Val Accuracy: 58.18%\n",
            "Epoch 3 learning rate [0.0009216]\n",
            "[Epoch 4] Train Loss: 1.1999, Val Loss: 1.0867, Train Accuracy: 57.25%, Val Accuracy: 60.86%\n",
            "Epoch 4 learning rate [0.0009216]\n",
            "[Epoch 5] Train Loss: 1.1443, Val Loss: 1.1350, Train Accuracy: 59.38%, Val Accuracy: 59.99%\n",
            "Epoch 5 learning rate [0.0009216]\n",
            "[Epoch 6] Train Loss: 1.0993, Val Loss: 1.0062, Train Accuracy: 61.18%, Val Accuracy: 65.02%\n",
            "Epoch 6 learning rate [0.0008847359999999999]\n",
            "[Epoch 7] Train Loss: 1.0614, Val Loss: 0.9733, Train Accuracy: 62.51%, Val Accuracy: 65.95%\n",
            "Epoch 7 learning rate [0.0008847359999999999]\n",
            "[Epoch 8] Train Loss: 1.0265, Val Loss: 0.9349, Train Accuracy: 63.83%, Val Accuracy: 67.73%\n",
            "Epoch 8 learning rate [0.0008847359999999999]\n",
            "[Epoch 9] Train Loss: 0.9942, Val Loss: 0.9192, Train Accuracy: 64.94%, Val Accuracy: 67.85%\n",
            "Epoch 9 learning rate [0.0008493465599999999]\n",
            "[Epoch 10] Train Loss: 0.9711, Val Loss: 0.9057, Train Accuracy: 65.82%, Val Accuracy: 68.81%\n",
            "Epoch 10 learning rate [0.0008493465599999999]\n",
            "[Epoch 11] Train Loss: 0.9381, Val Loss: 0.8721, Train Accuracy: 66.93%, Val Accuracy: 68.97%\n",
            "Epoch 11 learning rate [0.0008493465599999999]\n",
            "[Epoch 12] Train Loss: 0.9202, Val Loss: 0.8744, Train Accuracy: 67.59%, Val Accuracy: 70.18%\n",
            "Epoch 12 learning rate [0.0008153726975999999]\n",
            "[Epoch 13] Train Loss: 0.8941, Val Loss: 0.8091, Train Accuracy: 68.61%, Val Accuracy: 71.86%\n",
            "Epoch 13 learning rate [0.0008153726975999999]\n",
            "[Epoch 14] Train Loss: 0.8721, Val Loss: 0.7945, Train Accuracy: 69.34%, Val Accuracy: 72.63%\n",
            "Epoch 14 learning rate [0.0008153726975999999]\n",
            "[Epoch 15] Train Loss: 0.8707, Val Loss: 0.7890, Train Accuracy: 69.50%, Val Accuracy: 72.64%\n",
            "Epoch 15 learning rate [0.0007827577896959998]\n",
            "[Epoch 16] Train Loss: 0.8486, Val Loss: 0.7982, Train Accuracy: 70.27%, Val Accuracy: 72.01%\n",
            "Epoch 16 learning rate [0.0007827577896959998]\n",
            "[Epoch 17] Train Loss: 0.8328, Val Loss: 0.7758, Train Accuracy: 70.81%, Val Accuracy: 73.63%\n",
            "Epoch 17 learning rate [0.0007827577896959998]\n",
            "[Epoch 18] Train Loss: 0.8165, Val Loss: 0.7685, Train Accuracy: 71.28%, Val Accuracy: 72.82%\n",
            "Epoch 18 learning rate [0.0007514474781081598]\n",
            "[Epoch 19] Train Loss: 0.8063, Val Loss: 0.7640, Train Accuracy: 72.21%, Val Accuracy: 73.62%\n",
            "Epoch 19 learning rate [0.0007514474781081598]\n",
            "[Epoch 20] Train Loss: 0.7973, Val Loss: 0.7564, Train Accuracy: 72.03%, Val Accuracy: 73.70%\n",
            "Epoch 20 learning rate [0.0007514474781081598]\n",
            "[Epoch 21] Train Loss: 0.7814, Val Loss: 0.7584, Train Accuracy: 72.56%, Val Accuracy: 73.21%\n",
            "Epoch 21 learning rate [0.0007213895789838333]\n",
            "[Epoch 22] Train Loss: 0.7669, Val Loss: 0.7288, Train Accuracy: 73.40%, Val Accuracy: 74.58%\n",
            "Epoch 22 learning rate [0.0007213895789838333]\n",
            "[Epoch 23] Train Loss: 0.7596, Val Loss: 0.7068, Train Accuracy: 73.35%, Val Accuracy: 75.77%\n",
            "Epoch 23 learning rate [0.0007213895789838333]\n",
            "[Epoch 24] Train Loss: 0.7520, Val Loss: 0.7309, Train Accuracy: 73.55%, Val Accuracy: 74.35%\n",
            "Epoch 24 learning rate [0.00069253399582448]\n",
            "[Epoch 25] Train Loss: 0.7467, Val Loss: 0.7207, Train Accuracy: 74.03%, Val Accuracy: 74.70%\n",
            "Epoch 25 learning rate [0.00069253399582448]\n",
            "[Epoch 26] Train Loss: 0.7336, Val Loss: 0.6955, Train Accuracy: 74.38%, Val Accuracy: 75.46%\n",
            "Epoch 26 learning rate [0.00069253399582448]\n",
            "[Epoch 27] Train Loss: 0.7236, Val Loss: 0.6932, Train Accuracy: 74.60%, Val Accuracy: 75.57%\n",
            "Epoch 27 learning rate [0.0006648326359915007]\n",
            "[Epoch 28] Train Loss: 0.7184, Val Loss: 0.6807, Train Accuracy: 74.77%, Val Accuracy: 76.46%\n",
            "Epoch 28 learning rate [0.0006648326359915007]\n",
            "[Epoch 29] Train Loss: 0.7032, Val Loss: 0.6937, Train Accuracy: 75.07%, Val Accuracy: 76.24%\n",
            "Epoch 29 learning rate [0.0006648326359915007]\n",
            "[Epoch 30] Train Loss: 0.7017, Val Loss: 0.6761, Train Accuracy: 75.54%, Val Accuracy: 76.46%\n",
            "Test Loss: 0.5966, Test acc: 79.11%\n"
          ]
        }
      ]
    },
    {
      "cell_type": "code",
      "source": [
        "plot_accuracy_loss(train_metrics_modified_cnn)"
      ],
      "metadata": {
        "colab": {
          "base_uri": "https://localhost:8080/",
          "height": 617
        },
        "id": "4aOHH9EQFGYW",
        "outputId": "09af8eeb-b9b1-4991-c2ed-36af018e2076"
      },
      "execution_count": 20,
      "outputs": [
        {
          "output_type": "display_data",
          "data": {
            "text/html": [
              "<html>\n",
              "<head><meta charset=\"utf-8\" /></head>\n",
              "<body>\n",
              "    <div>            <script src=\"https://cdnjs.cloudflare.com/ajax/libs/mathjax/2.7.5/MathJax.js?config=TeX-AMS-MML_SVG\"></script><script type=\"text/javascript\">if (window.MathJax && window.MathJax.Hub && window.MathJax.Hub.Config) {window.MathJax.Hub.Config({SVG: {font: \"STIX-Web\"}});}</script>                <script type=\"text/javascript\">window.PlotlyConfig = {MathJaxConfig: 'local'};</script>\n",
              "        <script charset=\"utf-8\" src=\"https://cdn.plot.ly/plotly-2.24.1.min.js\"></script>                <div id=\"a420bcd4-308f-4afb-9f89-39ce57cd312c\" class=\"plotly-graph-div\" style=\"height:600px; width:800px;\"></div>            <script type=\"text/javascript\">                                    window.PLOTLYENV=window.PLOTLYENV || {};                                    if (document.getElementById(\"a420bcd4-308f-4afb-9f89-39ce57cd312c\")) {                    Plotly.newPlot(                        \"a420bcd4-308f-4afb-9f89-39ce57cd312c\",                        [{\"mode\":\"lines\",\"name\":\"Train accuracy\",\"opacity\":0.7,\"x\":[1,2,3,4,5,6,7,8,9,10,11,12,13,14,15,16,17,18,19,20,21,22,23,24,25,26,27,28,29],\"y\":[0.4076184315286624,0.5288614649681529,0.5781498805732485,0.6112161624203821,0.6324890525477707,0.6540107484076433,0.667296974522293,0.6804090366242038,0.6939191878980892,0.6956359474522293,0.7115595143312102,0.7185011942675159,0.7245969347133758,0.7338027468152867,0.7444516321656051,0.7426104697452229,0.74890525477707,0.7516669984076433,0.7574641719745223,0.7650527468152867,0.7670929538216561,0.7695810111464968,0.7734375,0.7814490445859873,0.7836882961783439,0.7881170382165605,0.7916500796178344,0.7922223328025477,0.7996118630573248,0.8024482484076433],\"type\":\"scatter\"},{\"mode\":\"lines\",\"name\":\"Validation accuracy\",\"opacity\":0.7,\"x\":[1,2,3,4,5,6,7,8,9,10,11,12,13,14,15,16,17,18,19,20,21,22,23,24,25,26,27,28,29],\"y\":[0.508984375,0.5884765625,0.59775390625,0.62763671875,0.6310546875,0.67080078125,0.65146484375,0.70322265625,0.7080078125,0.7046875,0.72109375,0.71171875,0.72431640625,0.74228515625,0.72802734375,0.7361328125,0.74423828125,0.74931640625,0.74638671875,0.75224609375,0.75439453125,0.75517578125,0.76923828125,0.76298828125,0.7642578125,0.77607421875,0.7720703125,0.76796875,0.780078125,0.78310546875],\"type\":\"scatter\"},{\"mode\":\"lines\",\"name\":\"Train loss\",\"opacity\":0.7,\"x\":[1,2,3,4,5,6,7,8,9,10,11,12,13,14,15,16,17,18,19,20,21,22,23,24,25,26,27,28,29],\"y\":[1.6102326880594728,1.3082594469094733,1.173925368649185,1.0945699214935303,1.0322179042609634,0.9849805812926808,0.943624653254345,0.9095659331910929,0.8789202362109142,0.8629678366290536,0.825057557054386,0.8049370817318084,0.7891107858366267,0.7669738291934797,0.7331315096776196,0.7385053046190055,0.7192846088652398,0.7104681627765582,0.6907665627017902,0.6772477254746067,0.6665137888519628,0.6556095044324353,0.6405288227804148,0.6284899679338856,0.6193055740207624,0.6075690407661876,0.6010325104947303,0.5912308343656504,0.5711187412784358,0.5637300587763452],\"type\":\"scatter\"},{\"mode\":\"lines\",\"name\":\"Validation loss\",\"opacity\":0.7,\"x\":[1,2,3,4,5,6,7,8,9,10,11,12,13,14,15,16,17,18,19,20,21,22,23,24,25,26,27,28,29],\"y\":[1.379608616232872,1.1639920890331268,1.1184373140335082,1.067110002040863,1.0565293237566948,0.94523506462574,0.9814039692282677,0.8657307669520378,0.8452890515327454,0.8353467807173729,0.8014794334769249,0.8368830949068069,0.7920552864670753,0.7455988019704819,0.7715275198221206,0.7576975211501121,0.759278216958046,0.7235813096165657,0.7254178002476692,0.7114919796586037,0.7020139664411544,0.71124197691679,0.6708030335605144,0.6856708854436875,0.6818642392754555,0.6705068811774254,0.6687159985303879,0.6711440399289131,0.6445104122161865,0.6353630766272544],\"type\":\"scatter\"}],                        {\"template\":{\"data\":{\"histogram2dcontour\":[{\"type\":\"histogram2dcontour\",\"colorbar\":{\"outlinewidth\":0,\"ticks\":\"\"},\"colorscale\":[[0.0,\"#0d0887\"],[0.1111111111111111,\"#46039f\"],[0.2222222222222222,\"#7201a8\"],[0.3333333333333333,\"#9c179e\"],[0.4444444444444444,\"#bd3786\"],[0.5555555555555556,\"#d8576b\"],[0.6666666666666666,\"#ed7953\"],[0.7777777777777778,\"#fb9f3a\"],[0.8888888888888888,\"#fdca26\"],[1.0,\"#f0f921\"]]}],\"choropleth\":[{\"type\":\"choropleth\",\"colorbar\":{\"outlinewidth\":0,\"ticks\":\"\"}}],\"histogram2d\":[{\"type\":\"histogram2d\",\"colorbar\":{\"outlinewidth\":0,\"ticks\":\"\"},\"colorscale\":[[0.0,\"#0d0887\"],[0.1111111111111111,\"#46039f\"],[0.2222222222222222,\"#7201a8\"],[0.3333333333333333,\"#9c179e\"],[0.4444444444444444,\"#bd3786\"],[0.5555555555555556,\"#d8576b\"],[0.6666666666666666,\"#ed7953\"],[0.7777777777777778,\"#fb9f3a\"],[0.8888888888888888,\"#fdca26\"],[1.0,\"#f0f921\"]]}],\"heatmap\":[{\"type\":\"heatmap\",\"colorbar\":{\"outlinewidth\":0,\"ticks\":\"\"},\"colorscale\":[[0.0,\"#0d0887\"],[0.1111111111111111,\"#46039f\"],[0.2222222222222222,\"#7201a8\"],[0.3333333333333333,\"#9c179e\"],[0.4444444444444444,\"#bd3786\"],[0.5555555555555556,\"#d8576b\"],[0.6666666666666666,\"#ed7953\"],[0.7777777777777778,\"#fb9f3a\"],[0.8888888888888888,\"#fdca26\"],[1.0,\"#f0f921\"]]}],\"heatmapgl\":[{\"type\":\"heatmapgl\",\"colorbar\":{\"outlinewidth\":0,\"ticks\":\"\"},\"colorscale\":[[0.0,\"#0d0887\"],[0.1111111111111111,\"#46039f\"],[0.2222222222222222,\"#7201a8\"],[0.3333333333333333,\"#9c179e\"],[0.4444444444444444,\"#bd3786\"],[0.5555555555555556,\"#d8576b\"],[0.6666666666666666,\"#ed7953\"],[0.7777777777777778,\"#fb9f3a\"],[0.8888888888888888,\"#fdca26\"],[1.0,\"#f0f921\"]]}],\"contourcarpet\":[{\"type\":\"contourcarpet\",\"colorbar\":{\"outlinewidth\":0,\"ticks\":\"\"}}],\"contour\":[{\"type\":\"contour\",\"colorbar\":{\"outlinewidth\":0,\"ticks\":\"\"},\"colorscale\":[[0.0,\"#0d0887\"],[0.1111111111111111,\"#46039f\"],[0.2222222222222222,\"#7201a8\"],[0.3333333333333333,\"#9c179e\"],[0.4444444444444444,\"#bd3786\"],[0.5555555555555556,\"#d8576b\"],[0.6666666666666666,\"#ed7953\"],[0.7777777777777778,\"#fb9f3a\"],[0.8888888888888888,\"#fdca26\"],[1.0,\"#f0f921\"]]}],\"surface\":[{\"type\":\"surface\",\"colorbar\":{\"outlinewidth\":0,\"ticks\":\"\"},\"colorscale\":[[0.0,\"#0d0887\"],[0.1111111111111111,\"#46039f\"],[0.2222222222222222,\"#7201a8\"],[0.3333333333333333,\"#9c179e\"],[0.4444444444444444,\"#bd3786\"],[0.5555555555555556,\"#d8576b\"],[0.6666666666666666,\"#ed7953\"],[0.7777777777777778,\"#fb9f3a\"],[0.8888888888888888,\"#fdca26\"],[1.0,\"#f0f921\"]]}],\"mesh3d\":[{\"type\":\"mesh3d\",\"colorbar\":{\"outlinewidth\":0,\"ticks\":\"\"}}],\"scatter\":[{\"fillpattern\":{\"fillmode\":\"overlay\",\"size\":10,\"solidity\":0.2},\"type\":\"scatter\"}],\"parcoords\":[{\"type\":\"parcoords\",\"line\":{\"colorbar\":{\"outlinewidth\":0,\"ticks\":\"\"}}}],\"scatterpolargl\":[{\"type\":\"scatterpolargl\",\"marker\":{\"colorbar\":{\"outlinewidth\":0,\"ticks\":\"\"}}}],\"bar\":[{\"error_x\":{\"color\":\"#2a3f5f\"},\"error_y\":{\"color\":\"#2a3f5f\"},\"marker\":{\"line\":{\"color\":\"#E5ECF6\",\"width\":0.5},\"pattern\":{\"fillmode\":\"overlay\",\"size\":10,\"solidity\":0.2}},\"type\":\"bar\"}],\"scattergeo\":[{\"type\":\"scattergeo\",\"marker\":{\"colorbar\":{\"outlinewidth\":0,\"ticks\":\"\"}}}],\"scatterpolar\":[{\"type\":\"scatterpolar\",\"marker\":{\"colorbar\":{\"outlinewidth\":0,\"ticks\":\"\"}}}],\"histogram\":[{\"marker\":{\"pattern\":{\"fillmode\":\"overlay\",\"size\":10,\"solidity\":0.2}},\"type\":\"histogram\"}],\"scattergl\":[{\"type\":\"scattergl\",\"marker\":{\"colorbar\":{\"outlinewidth\":0,\"ticks\":\"\"}}}],\"scatter3d\":[{\"type\":\"scatter3d\",\"line\":{\"colorbar\":{\"outlinewidth\":0,\"ticks\":\"\"}},\"marker\":{\"colorbar\":{\"outlinewidth\":0,\"ticks\":\"\"}}}],\"scattermapbox\":[{\"type\":\"scattermapbox\",\"marker\":{\"colorbar\":{\"outlinewidth\":0,\"ticks\":\"\"}}}],\"scatterternary\":[{\"type\":\"scatterternary\",\"marker\":{\"colorbar\":{\"outlinewidth\":0,\"ticks\":\"\"}}}],\"scattercarpet\":[{\"type\":\"scattercarpet\",\"marker\":{\"colorbar\":{\"outlinewidth\":0,\"ticks\":\"\"}}}],\"carpet\":[{\"aaxis\":{\"endlinecolor\":\"#2a3f5f\",\"gridcolor\":\"white\",\"linecolor\":\"white\",\"minorgridcolor\":\"white\",\"startlinecolor\":\"#2a3f5f\"},\"baxis\":{\"endlinecolor\":\"#2a3f5f\",\"gridcolor\":\"white\",\"linecolor\":\"white\",\"minorgridcolor\":\"white\",\"startlinecolor\":\"#2a3f5f\"},\"type\":\"carpet\"}],\"table\":[{\"cells\":{\"fill\":{\"color\":\"#EBF0F8\"},\"line\":{\"color\":\"white\"}},\"header\":{\"fill\":{\"color\":\"#C8D4E3\"},\"line\":{\"color\":\"white\"}},\"type\":\"table\"}],\"barpolar\":[{\"marker\":{\"line\":{\"color\":\"#E5ECF6\",\"width\":0.5},\"pattern\":{\"fillmode\":\"overlay\",\"size\":10,\"solidity\":0.2}},\"type\":\"barpolar\"}],\"pie\":[{\"automargin\":true,\"type\":\"pie\"}]},\"layout\":{\"autotypenumbers\":\"strict\",\"colorway\":[\"#636efa\",\"#EF553B\",\"#00cc96\",\"#ab63fa\",\"#FFA15A\",\"#19d3f3\",\"#FF6692\",\"#B6E880\",\"#FF97FF\",\"#FECB52\"],\"font\":{\"color\":\"#2a3f5f\"},\"hovermode\":\"closest\",\"hoverlabel\":{\"align\":\"left\"},\"paper_bgcolor\":\"white\",\"plot_bgcolor\":\"#E5ECF6\",\"polar\":{\"bgcolor\":\"#E5ECF6\",\"angularaxis\":{\"gridcolor\":\"white\",\"linecolor\":\"white\",\"ticks\":\"\"},\"radialaxis\":{\"gridcolor\":\"white\",\"linecolor\":\"white\",\"ticks\":\"\"}},\"ternary\":{\"bgcolor\":\"#E5ECF6\",\"aaxis\":{\"gridcolor\":\"white\",\"linecolor\":\"white\",\"ticks\":\"\"},\"baxis\":{\"gridcolor\":\"white\",\"linecolor\":\"white\",\"ticks\":\"\"},\"caxis\":{\"gridcolor\":\"white\",\"linecolor\":\"white\",\"ticks\":\"\"}},\"coloraxis\":{\"colorbar\":{\"outlinewidth\":0,\"ticks\":\"\"}},\"colorscale\":{\"sequential\":[[0.0,\"#0d0887\"],[0.1111111111111111,\"#46039f\"],[0.2222222222222222,\"#7201a8\"],[0.3333333333333333,\"#9c179e\"],[0.4444444444444444,\"#bd3786\"],[0.5555555555555556,\"#d8576b\"],[0.6666666666666666,\"#ed7953\"],[0.7777777777777778,\"#fb9f3a\"],[0.8888888888888888,\"#fdca26\"],[1.0,\"#f0f921\"]],\"sequentialminus\":[[0.0,\"#0d0887\"],[0.1111111111111111,\"#46039f\"],[0.2222222222222222,\"#7201a8\"],[0.3333333333333333,\"#9c179e\"],[0.4444444444444444,\"#bd3786\"],[0.5555555555555556,\"#d8576b\"],[0.6666666666666666,\"#ed7953\"],[0.7777777777777778,\"#fb9f3a\"],[0.8888888888888888,\"#fdca26\"],[1.0,\"#f0f921\"]],\"diverging\":[[0,\"#8e0152\"],[0.1,\"#c51b7d\"],[0.2,\"#de77ae\"],[0.3,\"#f1b6da\"],[0.4,\"#fde0ef\"],[0.5,\"#f7f7f7\"],[0.6,\"#e6f5d0\"],[0.7,\"#b8e186\"],[0.8,\"#7fbc41\"],[0.9,\"#4d9221\"],[1,\"#276419\"]]},\"xaxis\":{\"gridcolor\":\"white\",\"linecolor\":\"white\",\"ticks\":\"\",\"title\":{\"standoff\":15},\"zerolinecolor\":\"white\",\"automargin\":true,\"zerolinewidth\":2},\"yaxis\":{\"gridcolor\":\"white\",\"linecolor\":\"white\",\"ticks\":\"\",\"title\":{\"standoff\":15},\"zerolinecolor\":\"white\",\"automargin\":true,\"zerolinewidth\":2},\"scene\":{\"xaxis\":{\"backgroundcolor\":\"#E5ECF6\",\"gridcolor\":\"white\",\"linecolor\":\"white\",\"showbackground\":true,\"ticks\":\"\",\"zerolinecolor\":\"white\",\"gridwidth\":2},\"yaxis\":{\"backgroundcolor\":\"#E5ECF6\",\"gridcolor\":\"white\",\"linecolor\":\"white\",\"showbackground\":true,\"ticks\":\"\",\"zerolinecolor\":\"white\",\"gridwidth\":2},\"zaxis\":{\"backgroundcolor\":\"#E5ECF6\",\"gridcolor\":\"white\",\"linecolor\":\"white\",\"showbackground\":true,\"ticks\":\"\",\"zerolinecolor\":\"white\",\"gridwidth\":2}},\"shapedefaults\":{\"line\":{\"color\":\"#2a3f5f\"}},\"annotationdefaults\":{\"arrowcolor\":\"#2a3f5f\",\"arrowhead\":0,\"arrowwidth\":1},\"geo\":{\"bgcolor\":\"white\",\"landcolor\":\"#E5ECF6\",\"subunitcolor\":\"white\",\"showland\":true,\"showlakes\":true,\"lakecolor\":\"white\"},\"title\":{\"x\":0.05},\"mapbox\":{\"style\":\"light\"}}},\"title\":{\"text\":\"Accuracy & loss\"},\"width\":800,\"height\":600,\"xaxis\":{\"title\":{\"text\":\"Epoch\"}},\"yaxis\":{\"title\":{\"text\":\"Accuracy & loss\"}}},                        {\"responsive\": true}                    ).then(function(){\n",
              "                            \n",
              "var gd = document.getElementById('a420bcd4-308f-4afb-9f89-39ce57cd312c');\n",
              "var x = new MutationObserver(function (mutations, observer) {{\n",
              "        var display = window.getComputedStyle(gd).display;\n",
              "        if (!display || display === 'none') {{\n",
              "            console.log([gd, 'removed!']);\n",
              "            Plotly.purge(gd);\n",
              "            observer.disconnect();\n",
              "        }}\n",
              "}});\n",
              "\n",
              "// Listen for the removal of the full notebook cells\n",
              "var notebookContainer = gd.closest('#notebook-container');\n",
              "if (notebookContainer) {{\n",
              "    x.observe(notebookContainer, {childList: true});\n",
              "}}\n",
              "\n",
              "// Listen for the clearing of the current output cell\n",
              "var outputEl = gd.closest('.output');\n",
              "if (outputEl) {{\n",
              "    x.observe(outputEl, {childList: true});\n",
              "}}\n",
              "\n",
              "                        })                };                            </script>        </div>\n",
              "</body>\n",
              "</html>"
            ]
          },
          "metadata": {}
        }
      ]
    },
    {
      "cell_type": "code",
      "source": [
        "fig = go.Figure()\n",
        "x = x=torch.arange(1, len(train_metrics_simple['train_acc']))\n",
        "#fig.add_trace(go.Scatter(x=x, y=train_metrics_simple['train_acc'], mode='lines', name='Train accuracy simple', opacity=0.7))\n",
        "fig.add_trace(go.Scatter(x=x, y=train_metrics_simple['val_acc'], mode='lines', name='Validation accuracy simple', opacity=0.7))\n",
        "#fig.add_trace(go.Scatter(x=x, y=train_metrics_simple_cnn['train_acc'], mode='lines', name='Train accuracy CNN', opacity=0.7))\n",
        "fig.add_trace(go.Scatter(x=x, y=train_metrics_simple_cnn['val_acc'], mode='lines', name='Validation accuracy CNN', opacity=0.7))\n",
        "#fig.add_trace(go.Scatter(x=x, y=train_metrics_modified_cnn['train_acc'], mode='lines', name='Train accuracy mod CNN', opacity=0.7))\n",
        "fig.add_trace(go.Scatter(x=x, y=train_metrics_modified_cnn['val_acc'], mode='lines', name='Validation accuracy mod CNN', opacity=0.7))\n",
        "fig.update_layout(title='Accuracy ', width=800, height=600, xaxis_title='Epoch', yaxis_title='Accuracy')\n",
        "fig.show()"
      ],
      "metadata": {
        "colab": {
          "base_uri": "https://localhost:8080/",
          "height": 617
        },
        "id": "X0iBCSl1I2hR",
        "outputId": "6efb1716-c9b6-4b3e-8db9-1eaa40a1a43c"
      },
      "execution_count": 24,
      "outputs": [
        {
          "output_type": "display_data",
          "data": {
            "text/html": [
              "<html>\n",
              "<head><meta charset=\"utf-8\" /></head>\n",
              "<body>\n",
              "    <div>            <script src=\"https://cdnjs.cloudflare.com/ajax/libs/mathjax/2.7.5/MathJax.js?config=TeX-AMS-MML_SVG\"></script><script type=\"text/javascript\">if (window.MathJax && window.MathJax.Hub && window.MathJax.Hub.Config) {window.MathJax.Hub.Config({SVG: {font: \"STIX-Web\"}});}</script>                <script type=\"text/javascript\">window.PlotlyConfig = {MathJaxConfig: 'local'};</script>\n",
              "        <script charset=\"utf-8\" src=\"https://cdn.plot.ly/plotly-2.24.1.min.js\"></script>                <div id=\"afb7c2c7-5a53-4f08-92bb-a273dd0b763d\" class=\"plotly-graph-div\" style=\"height:600px; width:800px;\"></div>            <script type=\"text/javascript\">                                    window.PLOTLYENV=window.PLOTLYENV || {};                                    if (document.getElementById(\"afb7c2c7-5a53-4f08-92bb-a273dd0b763d\")) {                    Plotly.newPlot(                        \"afb7c2c7-5a53-4f08-92bb-a273dd0b763d\",                        [{\"mode\":\"lines\",\"name\":\"Validation accuracy simple\",\"opacity\":0.7,\"x\":[1,2,3,4,5,6,7,8,9,10,11,12,13,14,15,16,17,18,19,20,21,22,23,24,25,26,27,28,29],\"y\":[0.4126953125,0.44736328125,0.470703125,0.47421875,0.48623046875,0.49404296875,0.4904296875,0.48857421875,0.50146484375,0.50234375,0.499609375,0.5142578125,0.5037109375,0.5169921875,0.50947265625,0.51396484375,0.51357421875,0.51982421875,0.510546875,0.514453125,0.516796875,0.5158203125,0.51259765625,0.51650390625,0.51708984375,0.51123046875,0.5318359375,0.52998046875,0.52275390625,0.52587890625],\"type\":\"scatter\"},{\"mode\":\"lines\",\"name\":\"Validation accuracy CNN\",\"opacity\":0.7,\"x\":[1,2,3,4,5,6,7,8,9,10,11,12,13,14,15,16,17,18,19,20,21,22,23,24,25,26,27,28,29],\"y\":[0.4287109375,0.524609375,0.5794921875,0.5857421875,0.63203125,0.6611328125,0.663671875,0.6892578125,0.68173828125,0.7021484375,0.70390625,0.71796875,0.71015625,0.7009765625,0.7109375,0.71181640625,0.7150390625,0.71650390625,0.7154296875,0.721875,0.720703125,0.72255859375,0.718359375,0.71044921875,0.73349609375,0.72724609375,0.7228515625,0.7271484375,0.72802734375,0.72880859375],\"type\":\"scatter\"},{\"mode\":\"lines\",\"name\":\"Validation accuracy mod CNN\",\"opacity\":0.7,\"x\":[1,2,3,4,5,6,7,8,9,10,11,12,13,14,15,16,17,18,19,20,21,22,23,24,25,26,27,28,29],\"y\":[0.5021484375,0.55498046875,0.58369140625,0.63857421875,0.66123046875,0.6412109375,0.68759765625,0.70634765625,0.71025390625,0.719921875,0.71552734375,0.73662109375,0.7283203125,0.7333984375,0.73623046875,0.75380859375,0.74580078125,0.7458984375,0.7451171875,0.74580078125,0.75380859375,0.7591796875,0.76845703125,0.77109375,0.7763671875,0.76962890625,0.77607421875,0.77119140625,0.781640625,0.78671875],\"type\":\"scatter\"}],                        {\"template\":{\"data\":{\"histogram2dcontour\":[{\"type\":\"histogram2dcontour\",\"colorbar\":{\"outlinewidth\":0,\"ticks\":\"\"},\"colorscale\":[[0.0,\"#0d0887\"],[0.1111111111111111,\"#46039f\"],[0.2222222222222222,\"#7201a8\"],[0.3333333333333333,\"#9c179e\"],[0.4444444444444444,\"#bd3786\"],[0.5555555555555556,\"#d8576b\"],[0.6666666666666666,\"#ed7953\"],[0.7777777777777778,\"#fb9f3a\"],[0.8888888888888888,\"#fdca26\"],[1.0,\"#f0f921\"]]}],\"choropleth\":[{\"type\":\"choropleth\",\"colorbar\":{\"outlinewidth\":0,\"ticks\":\"\"}}],\"histogram2d\":[{\"type\":\"histogram2d\",\"colorbar\":{\"outlinewidth\":0,\"ticks\":\"\"},\"colorscale\":[[0.0,\"#0d0887\"],[0.1111111111111111,\"#46039f\"],[0.2222222222222222,\"#7201a8\"],[0.3333333333333333,\"#9c179e\"],[0.4444444444444444,\"#bd3786\"],[0.5555555555555556,\"#d8576b\"],[0.6666666666666666,\"#ed7953\"],[0.7777777777777778,\"#fb9f3a\"],[0.8888888888888888,\"#fdca26\"],[1.0,\"#f0f921\"]]}],\"heatmap\":[{\"type\":\"heatmap\",\"colorbar\":{\"outlinewidth\":0,\"ticks\":\"\"},\"colorscale\":[[0.0,\"#0d0887\"],[0.1111111111111111,\"#46039f\"],[0.2222222222222222,\"#7201a8\"],[0.3333333333333333,\"#9c179e\"],[0.4444444444444444,\"#bd3786\"],[0.5555555555555556,\"#d8576b\"],[0.6666666666666666,\"#ed7953\"],[0.7777777777777778,\"#fb9f3a\"],[0.8888888888888888,\"#fdca26\"],[1.0,\"#f0f921\"]]}],\"heatmapgl\":[{\"type\":\"heatmapgl\",\"colorbar\":{\"outlinewidth\":0,\"ticks\":\"\"},\"colorscale\":[[0.0,\"#0d0887\"],[0.1111111111111111,\"#46039f\"],[0.2222222222222222,\"#7201a8\"],[0.3333333333333333,\"#9c179e\"],[0.4444444444444444,\"#bd3786\"],[0.5555555555555556,\"#d8576b\"],[0.6666666666666666,\"#ed7953\"],[0.7777777777777778,\"#fb9f3a\"],[0.8888888888888888,\"#fdca26\"],[1.0,\"#f0f921\"]]}],\"contourcarpet\":[{\"type\":\"contourcarpet\",\"colorbar\":{\"outlinewidth\":0,\"ticks\":\"\"}}],\"contour\":[{\"type\":\"contour\",\"colorbar\":{\"outlinewidth\":0,\"ticks\":\"\"},\"colorscale\":[[0.0,\"#0d0887\"],[0.1111111111111111,\"#46039f\"],[0.2222222222222222,\"#7201a8\"],[0.3333333333333333,\"#9c179e\"],[0.4444444444444444,\"#bd3786\"],[0.5555555555555556,\"#d8576b\"],[0.6666666666666666,\"#ed7953\"],[0.7777777777777778,\"#fb9f3a\"],[0.8888888888888888,\"#fdca26\"],[1.0,\"#f0f921\"]]}],\"surface\":[{\"type\":\"surface\",\"colorbar\":{\"outlinewidth\":0,\"ticks\":\"\"},\"colorscale\":[[0.0,\"#0d0887\"],[0.1111111111111111,\"#46039f\"],[0.2222222222222222,\"#7201a8\"],[0.3333333333333333,\"#9c179e\"],[0.4444444444444444,\"#bd3786\"],[0.5555555555555556,\"#d8576b\"],[0.6666666666666666,\"#ed7953\"],[0.7777777777777778,\"#fb9f3a\"],[0.8888888888888888,\"#fdca26\"],[1.0,\"#f0f921\"]]}],\"mesh3d\":[{\"type\":\"mesh3d\",\"colorbar\":{\"outlinewidth\":0,\"ticks\":\"\"}}],\"scatter\":[{\"fillpattern\":{\"fillmode\":\"overlay\",\"size\":10,\"solidity\":0.2},\"type\":\"scatter\"}],\"parcoords\":[{\"type\":\"parcoords\",\"line\":{\"colorbar\":{\"outlinewidth\":0,\"ticks\":\"\"}}}],\"scatterpolargl\":[{\"type\":\"scatterpolargl\",\"marker\":{\"colorbar\":{\"outlinewidth\":0,\"ticks\":\"\"}}}],\"bar\":[{\"error_x\":{\"color\":\"#2a3f5f\"},\"error_y\":{\"color\":\"#2a3f5f\"},\"marker\":{\"line\":{\"color\":\"#E5ECF6\",\"width\":0.5},\"pattern\":{\"fillmode\":\"overlay\",\"size\":10,\"solidity\":0.2}},\"type\":\"bar\"}],\"scattergeo\":[{\"type\":\"scattergeo\",\"marker\":{\"colorbar\":{\"outlinewidth\":0,\"ticks\":\"\"}}}],\"scatterpolar\":[{\"type\":\"scatterpolar\",\"marker\":{\"colorbar\":{\"outlinewidth\":0,\"ticks\":\"\"}}}],\"histogram\":[{\"marker\":{\"pattern\":{\"fillmode\":\"overlay\",\"size\":10,\"solidity\":0.2}},\"type\":\"histogram\"}],\"scattergl\":[{\"type\":\"scattergl\",\"marker\":{\"colorbar\":{\"outlinewidth\":0,\"ticks\":\"\"}}}],\"scatter3d\":[{\"type\":\"scatter3d\",\"line\":{\"colorbar\":{\"outlinewidth\":0,\"ticks\":\"\"}},\"marker\":{\"colorbar\":{\"outlinewidth\":0,\"ticks\":\"\"}}}],\"scattermapbox\":[{\"type\":\"scattermapbox\",\"marker\":{\"colorbar\":{\"outlinewidth\":0,\"ticks\":\"\"}}}],\"scatterternary\":[{\"type\":\"scatterternary\",\"marker\":{\"colorbar\":{\"outlinewidth\":0,\"ticks\":\"\"}}}],\"scattercarpet\":[{\"type\":\"scattercarpet\",\"marker\":{\"colorbar\":{\"outlinewidth\":0,\"ticks\":\"\"}}}],\"carpet\":[{\"aaxis\":{\"endlinecolor\":\"#2a3f5f\",\"gridcolor\":\"white\",\"linecolor\":\"white\",\"minorgridcolor\":\"white\",\"startlinecolor\":\"#2a3f5f\"},\"baxis\":{\"endlinecolor\":\"#2a3f5f\",\"gridcolor\":\"white\",\"linecolor\":\"white\",\"minorgridcolor\":\"white\",\"startlinecolor\":\"#2a3f5f\"},\"type\":\"carpet\"}],\"table\":[{\"cells\":{\"fill\":{\"color\":\"#EBF0F8\"},\"line\":{\"color\":\"white\"}},\"header\":{\"fill\":{\"color\":\"#C8D4E3\"},\"line\":{\"color\":\"white\"}},\"type\":\"table\"}],\"barpolar\":[{\"marker\":{\"line\":{\"color\":\"#E5ECF6\",\"width\":0.5},\"pattern\":{\"fillmode\":\"overlay\",\"size\":10,\"solidity\":0.2}},\"type\":\"barpolar\"}],\"pie\":[{\"automargin\":true,\"type\":\"pie\"}]},\"layout\":{\"autotypenumbers\":\"strict\",\"colorway\":[\"#636efa\",\"#EF553B\",\"#00cc96\",\"#ab63fa\",\"#FFA15A\",\"#19d3f3\",\"#FF6692\",\"#B6E880\",\"#FF97FF\",\"#FECB52\"],\"font\":{\"color\":\"#2a3f5f\"},\"hovermode\":\"closest\",\"hoverlabel\":{\"align\":\"left\"},\"paper_bgcolor\":\"white\",\"plot_bgcolor\":\"#E5ECF6\",\"polar\":{\"bgcolor\":\"#E5ECF6\",\"angularaxis\":{\"gridcolor\":\"white\",\"linecolor\":\"white\",\"ticks\":\"\"},\"radialaxis\":{\"gridcolor\":\"white\",\"linecolor\":\"white\",\"ticks\":\"\"}},\"ternary\":{\"bgcolor\":\"#E5ECF6\",\"aaxis\":{\"gridcolor\":\"white\",\"linecolor\":\"white\",\"ticks\":\"\"},\"baxis\":{\"gridcolor\":\"white\",\"linecolor\":\"white\",\"ticks\":\"\"},\"caxis\":{\"gridcolor\":\"white\",\"linecolor\":\"white\",\"ticks\":\"\"}},\"coloraxis\":{\"colorbar\":{\"outlinewidth\":0,\"ticks\":\"\"}},\"colorscale\":{\"sequential\":[[0.0,\"#0d0887\"],[0.1111111111111111,\"#46039f\"],[0.2222222222222222,\"#7201a8\"],[0.3333333333333333,\"#9c179e\"],[0.4444444444444444,\"#bd3786\"],[0.5555555555555556,\"#d8576b\"],[0.6666666666666666,\"#ed7953\"],[0.7777777777777778,\"#fb9f3a\"],[0.8888888888888888,\"#fdca26\"],[1.0,\"#f0f921\"]],\"sequentialminus\":[[0.0,\"#0d0887\"],[0.1111111111111111,\"#46039f\"],[0.2222222222222222,\"#7201a8\"],[0.3333333333333333,\"#9c179e\"],[0.4444444444444444,\"#bd3786\"],[0.5555555555555556,\"#d8576b\"],[0.6666666666666666,\"#ed7953\"],[0.7777777777777778,\"#fb9f3a\"],[0.8888888888888888,\"#fdca26\"],[1.0,\"#f0f921\"]],\"diverging\":[[0,\"#8e0152\"],[0.1,\"#c51b7d\"],[0.2,\"#de77ae\"],[0.3,\"#f1b6da\"],[0.4,\"#fde0ef\"],[0.5,\"#f7f7f7\"],[0.6,\"#e6f5d0\"],[0.7,\"#b8e186\"],[0.8,\"#7fbc41\"],[0.9,\"#4d9221\"],[1,\"#276419\"]]},\"xaxis\":{\"gridcolor\":\"white\",\"linecolor\":\"white\",\"ticks\":\"\",\"title\":{\"standoff\":15},\"zerolinecolor\":\"white\",\"automargin\":true,\"zerolinewidth\":2},\"yaxis\":{\"gridcolor\":\"white\",\"linecolor\":\"white\",\"ticks\":\"\",\"title\":{\"standoff\":15},\"zerolinecolor\":\"white\",\"automargin\":true,\"zerolinewidth\":2},\"scene\":{\"xaxis\":{\"backgroundcolor\":\"#E5ECF6\",\"gridcolor\":\"white\",\"linecolor\":\"white\",\"showbackground\":true,\"ticks\":\"\",\"zerolinecolor\":\"white\",\"gridwidth\":2},\"yaxis\":{\"backgroundcolor\":\"#E5ECF6\",\"gridcolor\":\"white\",\"linecolor\":\"white\",\"showbackground\":true,\"ticks\":\"\",\"zerolinecolor\":\"white\",\"gridwidth\":2},\"zaxis\":{\"backgroundcolor\":\"#E5ECF6\",\"gridcolor\":\"white\",\"linecolor\":\"white\",\"showbackground\":true,\"ticks\":\"\",\"zerolinecolor\":\"white\",\"gridwidth\":2}},\"shapedefaults\":{\"line\":{\"color\":\"#2a3f5f\"}},\"annotationdefaults\":{\"arrowcolor\":\"#2a3f5f\",\"arrowhead\":0,\"arrowwidth\":1},\"geo\":{\"bgcolor\":\"white\",\"landcolor\":\"#E5ECF6\",\"subunitcolor\":\"white\",\"showland\":true,\"showlakes\":true,\"lakecolor\":\"white\"},\"title\":{\"x\":0.05},\"mapbox\":{\"style\":\"light\"}}},\"title\":{\"text\":\"Accuracy \"},\"width\":800,\"height\":600,\"xaxis\":{\"title\":{\"text\":\"Epoch\"}},\"yaxis\":{\"title\":{\"text\":\"Accuracy\"}}},                        {\"responsive\": true}                    ).then(function(){\n",
              "                            \n",
              "var gd = document.getElementById('afb7c2c7-5a53-4f08-92bb-a273dd0b763d');\n",
              "var x = new MutationObserver(function (mutations, observer) {{\n",
              "        var display = window.getComputedStyle(gd).display;\n",
              "        if (!display || display === 'none') {{\n",
              "            console.log([gd, 'removed!']);\n",
              "            Plotly.purge(gd);\n",
              "            observer.disconnect();\n",
              "        }}\n",
              "}});\n",
              "\n",
              "// Listen for the removal of the full notebook cells\n",
              "var notebookContainer = gd.closest('#notebook-container');\n",
              "if (notebookContainer) {{\n",
              "    x.observe(notebookContainer, {childList: true});\n",
              "}}\n",
              "\n",
              "// Listen for the clearing of the current output cell\n",
              "var outputEl = gd.closest('.output');\n",
              "if (outputEl) {{\n",
              "    x.observe(outputEl, {childList: true});\n",
              "}}\n",
              "\n",
              "                        })                };                            </script>        </div>\n",
              "</body>\n",
              "</html>"
            ]
          },
          "metadata": {}
        }
      ]
    },
    {
      "cell_type": "markdown",
      "metadata": {
        "id": "ZQ1WSwJNerSj"
      },
      "source": [
        "## Решил ДЗ - дай обратную связь ;)\n",
        "\n",
        "Надеемся, было интересно и полезно.\n",
        "\n",
        "Пожалуйста, оставьте обратную связь по этому домашнему заданию: https://forms.gle/iY5NRn9UfaZ344rbA"
      ]
    }
  ],
  "metadata": {
    "colab": {
      "provenance": [],
      "gpuType": "T4",
      "include_colab_link": true
    },
    "kernelspec": {
      "display_name": "Python 3",
      "name": "python3"
    },
    "language_info": {
      "codemirror_mode": {
        "name": "ipython",
        "version": 3
      },
      "file_extension": ".py",
      "mimetype": "text/x-python",
      "name": "python",
      "nbconvert_exporter": "python",
      "pygments_lexer": "ipython3",
      "version": "3.9.19"
    },
    "accelerator": "GPU"
  },
  "nbformat": 4,
  "nbformat_minor": 0
}